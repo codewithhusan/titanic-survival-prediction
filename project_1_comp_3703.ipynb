{
 "cells": [
  {
   "cell_type": "code",
   "execution_count": 1,
   "id": "c63301b9-5296-4294-b592-73420de4c1d4",
   "metadata": {
    "tags": []
   },
   "outputs": [],
   "source": [
    "# Importing necessary libraries\n",
    "import pandas as pd\n",
    "import seaborn as sb\n",
    "import numpy as np\n",
    "import matplotlib.pyplot as plt\n",
    "from sklearn.model_selection import train_test_split\n",
    "from sklearn.tree import DecisionTreeClassifier, plot_tree\n",
    "from sklearn.metrics import accuracy_score\n",
    "from sklearn.model_selection import cross_val_score"
   ]
  },
  {
   "cell_type": "markdown",
   "id": "ade5b89e-a282-4107-b3a4-bb157cfbf9ac",
   "metadata": {},
   "source": [
    "## Data Exploration\n",
    "****"
   ]
  },
  {
   "cell_type": "code",
   "execution_count": 2,
   "id": "03ea046c-2624-4145-b463-666279a81728",
   "metadata": {
    "tags": []
   },
   "outputs": [],
   "source": [
    "# Loading the training and testing datasets\n",
    "data_train = pd.read_csv(\"train.csv\")\n",
    "data_test = pd.read_csv(\"test.csv\")\n",
    "data_total = pd.concat([data_train, data_test])"
   ]
  },
  {
   "cell_type": "code",
   "execution_count": 3,
   "id": "e29f8add-fc38-4bc9-84ba-18ae6fc41977",
   "metadata": {
    "tags": []
   },
   "outputs": [
    {
     "data": {
      "text/plain": [
       "1309"
      ]
     },
     "execution_count": 3,
     "metadata": {},
     "output_type": "execute_result"
    }
   ],
   "source": [
    "# Extracting the number of rows\n",
    "data_total.shape[0]"
   ]
  },
  {
   "cell_type": "markdown",
   "id": "be6b790c-3c72-412e-9cd0-e78938cca06a",
   "metadata": {},
   "source": [
    "#### Each row in the dataset represents a unique passenger. So there are a total of 1309 passengers whose data is represented here."
   ]
  },
  {
   "cell_type": "code",
   "execution_count": 4,
   "id": "e42c82bd-1ff2-44aa-af92-06e691c13ff6",
   "metadata": {
    "tags": []
   },
   "outputs": [
    {
     "data": {
      "text/plain": [
       "12"
      ]
     },
     "execution_count": 4,
     "metadata": {},
     "output_type": "execute_result"
    }
   ],
   "source": [
    "# Extracting the number of columns\n",
    "data_total.shape[1]"
   ]
  },
  {
   "cell_type": "markdown",
   "id": "42a1f106-eadd-478e-a894-4ec56d0609af",
   "metadata": {},
   "source": [
    "#### Each cloumn represents a unique feature associated with the passenger like age, gender, ticket class and survival status etc.."
   ]
  },
  {
   "cell_type": "code",
   "execution_count": 5,
   "id": "3dad1a3f-2b0b-4c5d-81de-dfae27e27814",
   "metadata": {
    "tags": []
   },
   "outputs": [
    {
     "data": {
      "text/html": [
       "<div>\n",
       "<style scoped>\n",
       "    .dataframe tbody tr th:only-of-type {\n",
       "        vertical-align: middle;\n",
       "    }\n",
       "\n",
       "    .dataframe tbody tr th {\n",
       "        vertical-align: top;\n",
       "    }\n",
       "\n",
       "    .dataframe thead th {\n",
       "        text-align: right;\n",
       "    }\n",
       "</style>\n",
       "<table border=\"1\" class=\"dataframe\">\n",
       "  <thead>\n",
       "    <tr style=\"text-align: right;\">\n",
       "      <th></th>\n",
       "      <th>PassengerId</th>\n",
       "      <th>Survived</th>\n",
       "      <th>Pclass</th>\n",
       "      <th>Name</th>\n",
       "      <th>Sex</th>\n",
       "      <th>Age</th>\n",
       "      <th>SibSp</th>\n",
       "      <th>Parch</th>\n",
       "      <th>Ticket</th>\n",
       "      <th>Fare</th>\n",
       "      <th>Cabin</th>\n",
       "      <th>Embarked</th>\n",
       "    </tr>\n",
       "  </thead>\n",
       "  <tbody>\n",
       "    <tr>\n",
       "      <th>0</th>\n",
       "      <td>1</td>\n",
       "      <td>0.0</td>\n",
       "      <td>3</td>\n",
       "      <td>Braund, Mr. Owen Harris</td>\n",
       "      <td>male</td>\n",
       "      <td>22.0</td>\n",
       "      <td>1</td>\n",
       "      <td>0</td>\n",
       "      <td>A/5 21171</td>\n",
       "      <td>7.2500</td>\n",
       "      <td>NaN</td>\n",
       "      <td>S</td>\n",
       "    </tr>\n",
       "    <tr>\n",
       "      <th>1</th>\n",
       "      <td>2</td>\n",
       "      <td>1.0</td>\n",
       "      <td>1</td>\n",
       "      <td>Cumings, Mrs. John Bradley (Florence Briggs Th...</td>\n",
       "      <td>female</td>\n",
       "      <td>38.0</td>\n",
       "      <td>1</td>\n",
       "      <td>0</td>\n",
       "      <td>PC 17599</td>\n",
       "      <td>71.2833</td>\n",
       "      <td>C85</td>\n",
       "      <td>C</td>\n",
       "    </tr>\n",
       "    <tr>\n",
       "      <th>2</th>\n",
       "      <td>3</td>\n",
       "      <td>1.0</td>\n",
       "      <td>3</td>\n",
       "      <td>Heikkinen, Miss. Laina</td>\n",
       "      <td>female</td>\n",
       "      <td>26.0</td>\n",
       "      <td>0</td>\n",
       "      <td>0</td>\n",
       "      <td>STON/O2. 3101282</td>\n",
       "      <td>7.9250</td>\n",
       "      <td>NaN</td>\n",
       "      <td>S</td>\n",
       "    </tr>\n",
       "    <tr>\n",
       "      <th>3</th>\n",
       "      <td>4</td>\n",
       "      <td>1.0</td>\n",
       "      <td>1</td>\n",
       "      <td>Futrelle, Mrs. Jacques Heath (Lily May Peel)</td>\n",
       "      <td>female</td>\n",
       "      <td>35.0</td>\n",
       "      <td>1</td>\n",
       "      <td>0</td>\n",
       "      <td>113803</td>\n",
       "      <td>53.1000</td>\n",
       "      <td>C123</td>\n",
       "      <td>S</td>\n",
       "    </tr>\n",
       "    <tr>\n",
       "      <th>4</th>\n",
       "      <td>5</td>\n",
       "      <td>0.0</td>\n",
       "      <td>3</td>\n",
       "      <td>Allen, Mr. William Henry</td>\n",
       "      <td>male</td>\n",
       "      <td>35.0</td>\n",
       "      <td>0</td>\n",
       "      <td>0</td>\n",
       "      <td>373450</td>\n",
       "      <td>8.0500</td>\n",
       "      <td>NaN</td>\n",
       "      <td>S</td>\n",
       "    </tr>\n",
       "  </tbody>\n",
       "</table>\n",
       "</div>"
      ],
      "text/plain": [
       "   PassengerId  Survived  Pclass  \\\n",
       "0            1       0.0       3   \n",
       "1            2       1.0       1   \n",
       "2            3       1.0       3   \n",
       "3            4       1.0       1   \n",
       "4            5       0.0       3   \n",
       "\n",
       "                                                Name     Sex   Age  SibSp  \\\n",
       "0                            Braund, Mr. Owen Harris    male  22.0      1   \n",
       "1  Cumings, Mrs. John Bradley (Florence Briggs Th...  female  38.0      1   \n",
       "2                             Heikkinen, Miss. Laina  female  26.0      0   \n",
       "3       Futrelle, Mrs. Jacques Heath (Lily May Peel)  female  35.0      1   \n",
       "4                           Allen, Mr. William Henry    male  35.0      0   \n",
       "\n",
       "   Parch            Ticket     Fare Cabin Embarked  \n",
       "0      0         A/5 21171   7.2500   NaN        S  \n",
       "1      0          PC 17599  71.2833   C85        C  \n",
       "2      0  STON/O2. 3101282   7.9250   NaN        S  \n",
       "3      0            113803  53.1000  C123        S  \n",
       "4      0            373450   8.0500   NaN        S  "
      ]
     },
     "execution_count": 5,
     "metadata": {},
     "output_type": "execute_result"
    }
   ],
   "source": [
    "# printing the first five rows of the dataset\n",
    "data_total.head()"
   ]
  },
  {
   "cell_type": "code",
   "execution_count": 6,
   "id": "cb8bb6c0-f122-44c5-be18-b457fe979729",
   "metadata": {
    "tags": []
   },
   "outputs": [
    {
     "data": {
      "text/plain": [
       "342.0"
      ]
     },
     "execution_count": 6,
     "metadata": {},
     "output_type": "execute_result"
    }
   ],
   "source": [
    "# Getting the total number of survivors\n",
    "total_survivors = data_total['Survived'].sum()\n",
    "total_survivors"
   ]
  },
  {
   "cell_type": "code",
   "execution_count": 7,
   "id": "5d016b1f-ea2b-4c82-b63c-0b57b873fd72",
   "metadata": {
    "tags": []
   },
   "outputs": [
    {
     "data": {
      "text/html": [
       "<div>\n",
       "<style scoped>\n",
       "    .dataframe tbody tr th:only-of-type {\n",
       "        vertical-align: middle;\n",
       "    }\n",
       "\n",
       "    .dataframe tbody tr th {\n",
       "        vertical-align: top;\n",
       "    }\n",
       "\n",
       "    .dataframe thead th {\n",
       "        text-align: right;\n",
       "    }\n",
       "</style>\n",
       "<table border=\"1\" class=\"dataframe\">\n",
       "  <thead>\n",
       "    <tr style=\"text-align: right;\">\n",
       "      <th></th>\n",
       "      <th>PassengerId</th>\n",
       "      <th>Survived</th>\n",
       "      <th>Pclass</th>\n",
       "      <th>Age</th>\n",
       "      <th>SibSp</th>\n",
       "      <th>Parch</th>\n",
       "      <th>Fare</th>\n",
       "    </tr>\n",
       "  </thead>\n",
       "  <tbody>\n",
       "    <tr>\n",
       "      <th>count</th>\n",
       "      <td>1309.000000</td>\n",
       "      <td>891.000000</td>\n",
       "      <td>1309.000000</td>\n",
       "      <td>1046.000000</td>\n",
       "      <td>1309.000000</td>\n",
       "      <td>1309.000000</td>\n",
       "      <td>1308.000000</td>\n",
       "    </tr>\n",
       "    <tr>\n",
       "      <th>mean</th>\n",
       "      <td>655.000000</td>\n",
       "      <td>0.383838</td>\n",
       "      <td>2.294882</td>\n",
       "      <td>29.881138</td>\n",
       "      <td>0.498854</td>\n",
       "      <td>0.385027</td>\n",
       "      <td>33.295479</td>\n",
       "    </tr>\n",
       "    <tr>\n",
       "      <th>std</th>\n",
       "      <td>378.020061</td>\n",
       "      <td>0.486592</td>\n",
       "      <td>0.837836</td>\n",
       "      <td>14.413493</td>\n",
       "      <td>1.041658</td>\n",
       "      <td>0.865560</td>\n",
       "      <td>51.758668</td>\n",
       "    </tr>\n",
       "    <tr>\n",
       "      <th>min</th>\n",
       "      <td>1.000000</td>\n",
       "      <td>0.000000</td>\n",
       "      <td>1.000000</td>\n",
       "      <td>0.170000</td>\n",
       "      <td>0.000000</td>\n",
       "      <td>0.000000</td>\n",
       "      <td>0.000000</td>\n",
       "    </tr>\n",
       "    <tr>\n",
       "      <th>25%</th>\n",
       "      <td>328.000000</td>\n",
       "      <td>0.000000</td>\n",
       "      <td>2.000000</td>\n",
       "      <td>21.000000</td>\n",
       "      <td>0.000000</td>\n",
       "      <td>0.000000</td>\n",
       "      <td>7.895800</td>\n",
       "    </tr>\n",
       "    <tr>\n",
       "      <th>50%</th>\n",
       "      <td>655.000000</td>\n",
       "      <td>0.000000</td>\n",
       "      <td>3.000000</td>\n",
       "      <td>28.000000</td>\n",
       "      <td>0.000000</td>\n",
       "      <td>0.000000</td>\n",
       "      <td>14.454200</td>\n",
       "    </tr>\n",
       "    <tr>\n",
       "      <th>75%</th>\n",
       "      <td>982.000000</td>\n",
       "      <td>1.000000</td>\n",
       "      <td>3.000000</td>\n",
       "      <td>39.000000</td>\n",
       "      <td>1.000000</td>\n",
       "      <td>0.000000</td>\n",
       "      <td>31.275000</td>\n",
       "    </tr>\n",
       "    <tr>\n",
       "      <th>max</th>\n",
       "      <td>1309.000000</td>\n",
       "      <td>1.000000</td>\n",
       "      <td>3.000000</td>\n",
       "      <td>80.000000</td>\n",
       "      <td>8.000000</td>\n",
       "      <td>9.000000</td>\n",
       "      <td>512.329200</td>\n",
       "    </tr>\n",
       "  </tbody>\n",
       "</table>\n",
       "</div>"
      ],
      "text/plain": [
       "       PassengerId    Survived       Pclass          Age        SibSp  \\\n",
       "count  1309.000000  891.000000  1309.000000  1046.000000  1309.000000   \n",
       "mean    655.000000    0.383838     2.294882    29.881138     0.498854   \n",
       "std     378.020061    0.486592     0.837836    14.413493     1.041658   \n",
       "min       1.000000    0.000000     1.000000     0.170000     0.000000   \n",
       "25%     328.000000    0.000000     2.000000    21.000000     0.000000   \n",
       "50%     655.000000    0.000000     3.000000    28.000000     0.000000   \n",
       "75%     982.000000    1.000000     3.000000    39.000000     1.000000   \n",
       "max    1309.000000    1.000000     3.000000    80.000000     8.000000   \n",
       "\n",
       "             Parch         Fare  \n",
       "count  1309.000000  1308.000000  \n",
       "mean      0.385027    33.295479  \n",
       "std       0.865560    51.758668  \n",
       "min       0.000000     0.000000  \n",
       "25%       0.000000     7.895800  \n",
       "50%       0.000000    14.454200  \n",
       "75%       0.000000    31.275000  \n",
       "max       9.000000   512.329200  "
      ]
     },
     "execution_count": 7,
     "metadata": {},
     "output_type": "execute_result"
    }
   ],
   "source": [
    "data_total.describe()"
   ]
  },
  {
   "cell_type": "code",
   "execution_count": 8,
   "id": "c76f0d29-a516-4186-81e9-05a5594d6b62",
   "metadata": {
    "tags": []
   },
   "outputs": [
    {
     "data": {
      "image/png": "[encoded data removed]",
      "text/plain": [
       "<Figure size 600x400 with 1 Axes>"
      ]
     },
     "metadata": {},
     "output_type": "display_data"
    }
   ],
   "source": [
    "# Bar plot for Survival Counts\n",
    "plt.figure(figsize=(6, 4))\n",
    "sb.countplot(data=data_total, x='Survived')\n",
    "plt.title('Survival Count')\n",
    "plt.show()"
   ]
  },
  {
   "cell_type": "code",
   "execution_count": 9,
   "id": "1cf3f52c-5630-411a-9ec9-8f3d7de9b336",
   "metadata": {
    "tags": []
   },
   "outputs": [
    {
     "data": {
      "image/png": "[encoded data removed]",
      "text/plain": [
       "<Figure size 600x400 with 1 Axes>"
      ]
     },
     "metadata": {},
     "output_type": "display_data"
    }
   ],
   "source": [
    "# Boxplot for Fare Distribution\n",
    "plt.figure(figsize=(6, 4))\n",
    "sb.boxplot(data=data_total, y='Fare')\n",
    "plt.title('Fare Distribution of Passengers')\n",
    "plt.show()"
   ]
  },
  {
   "cell_type": "code",
   "execution_count": 10,
   "id": "20b0154e-d1c6-4a46-bd4e-0f22c81bce6e",
   "metadata": {
    "tags": []
   },
   "outputs": [
    {
     "data": {
      "image/png": "[encoded data removed]",
      "text/plain": [
       "<Figure size 600x400 with 1 Axes>"
      ]
     },
     "metadata": {},
     "output_type": "display_data"
    }
   ],
   "source": [
    "# Histogram for Age Distribution\n",
    "plt.figure(figsize=(6, 4))\n",
    "sb.distplot(data_total['Age'])\n",
    "plt.title('Age Distribution of Passengers')\n",
    "plt.show()"
   ]
  },
  {
   "cell_type": "markdown",
   "id": "56db429a-75ae-4a27-9931-1de1e66e3e3a",
   "metadata": {},
   "source": [
    "## Data Transformation\n",
    "*****"
   ]
  },
  {
   "cell_type": "code",
   "execution_count": 11,
   "id": "89d6f6a8-9a41-42f8-b681-0cb66b849e75",
   "metadata": {},
   "outputs": [
    {
     "name": "stdout",
     "output_type": "stream",
     "text": [
      "Variables included:\n",
      " ['PassengerId', 'Survived', 'Pclass', 'Name', 'Sex', 'Age', 'SibSp', 'Parch', 'Ticket', 'Fare', 'Cabin', 'Embarked']\n"
     ]
    }
   ],
   "source": [
    "# displaying the features available in the dataset\n",
    "print(\"Variables included:\\n\" , data_total.columns.tolist())"
   ]
  },
  {
   "cell_type": "markdown",
   "id": "b8ac6caf-a8e6-4753-af04-626c434b9bdd",
   "metadata": {},
   "source": [
    "\n",
    "\n",
    "| Variable      | Description                        | Usefulness                                                     |\n",
    "|---------------|------------------------------------|----------------------------------------------------------------|\n",
    "| PassengerId   | Unique ID for each passenger       | Not useful for prediction, acts as an identifier               |\n",
    "| Survived      | Survival status (0 = No, 1 = Yes)  | **_Target variable_** we want to predict                             |\n",
    "| Pclass        | Passenger class (1, 2, or 3)       | Useful for predicting survival, as higher classes had better survival rates |\n",
    "| Name          | Passenger name                     | Not directly useful; could extract titles like \"Mr.\", \"Miss\", etc. |\n",
    "| Sex           | Gender of the passenger            | Useful, as gender impacted survival                            |\n",
    "| Age           | Age of the passenger               | Useful, as age impacted survival                               |\n",
    "| SibSp         | Number of siblings/spouses aboard  | Potentially useful, as family connections impacted survival    |\n",
    "| Parch         | Number of parents/children aboard  | Potentially useful for similar reasons as SibSp                |\n",
    "| Ticket        | Ticket number                      | Not directly useful                                            |\n",
    "| Fare          | Ticket price paid                  | Useful, as wealthier passengers had better survival odds       |\n",
    "| Cabin         | Cabin number                       | Often missing, but could correlate with survival if available  |\n",
    "| Embarked      | Port of embarkation (C, Q, S)      | May provide insights based on where passengers boarded         |\n"
   ]
  },
  {
   "cell_type": "markdown",
   "id": "615a9421-1d61-441f-83ec-0285a543c380",
   "metadata": {},
   "source": [
    "#### The target variable in this dataset is the **\"Survived\"** colummn, indicating whether a passenger survived or not."
   ]
  },
  {
   "cell_type": "code",
   "execution_count": 12,
   "id": "6ba93288-a94f-41e6-ae0f-b5ed6e731ec0",
   "metadata": {
    "tags": []
   },
   "outputs": [
    {
     "data": {
      "text/plain": [
       "PassengerId      0\n",
       "Survived         0\n",
       "Pclass           0\n",
       "Name             0\n",
       "Sex              0\n",
       "Age            177\n",
       "SibSp            0\n",
       "Parch            0\n",
       "Ticket           0\n",
       "Fare             0\n",
       "Cabin          687\n",
       "Embarked         2\n",
       "dtype: int64"
      ]
     },
     "execution_count": 12,
     "metadata": {},
     "output_type": "execute_result"
    }
   ],
   "source": [
    "data_train.isnull().sum()"
   ]
  },
  {
   "cell_type": "code",
   "execution_count": 13,
   "id": "ab803f0c-d9c7-426d-b984-f3bac2daeda3",
   "metadata": {
    "tags": []
   },
   "outputs": [
    {
     "data": {
      "text/plain": [
       "PassengerId      0\n",
       "Pclass           0\n",
       "Name             0\n",
       "Sex              0\n",
       "Age             86\n",
       "SibSp            0\n",
       "Parch            0\n",
       "Ticket           0\n",
       "Fare             1\n",
       "Cabin          327\n",
       "Embarked         0\n",
       "dtype: int64"
      ]
     },
     "execution_count": 13,
     "metadata": {},
     "output_type": "execute_result"
    }
   ],
   "source": [
    "data_test.isnull().sum()"
   ]
  },
  {
   "cell_type": "code",
   "execution_count": 14,
   "id": "2299fd84-40ec-4fde-bcad-0cef4fa21a0c",
   "metadata": {
    "tags": []
   },
   "outputs": [
    {
     "name": "stdout",
     "output_type": "stream",
     "text": [
      "Missing values in training data after handling them:\n",
      "PassengerId    0\n",
      "Survived       0\n",
      "Pclass         0\n",
      "Name           0\n",
      "Sex            0\n",
      "Age            0\n",
      "SibSp          0\n",
      "Parch          0\n",
      "Ticket         0\n",
      "Fare           0\n",
      "Embarked       0\n",
      "dtype: int64\n",
      " \n",
      "Missing values in testing data after handling them:\n",
      "PassengerId    0\n",
      "Pclass         0\n",
      "Name           0\n",
      "Sex            0\n",
      "Age            0\n",
      "SibSp          0\n",
      "Parch          0\n",
      "Ticket         0\n",
      "Fare           0\n",
      "Embarked       0\n",
      "dtype: int64\n"
     ]
    }
   ],
   "source": [
    "# Filling missing 'Age' values with the mean age in the training set\n",
    "data_train['Age'].fillna(data_total['Age'].mean(), inplace=True)\n",
    "\n",
    "# Filling missing 'Age' values with the mean age in the test set\n",
    "data_test['Age'].fillna(data_total['Age'].mean(), inplace=True)\n",
    "\n",
    "# Filling missing 'Embarked' values in the training set with the mode\n",
    "data_train['Embarked'].fillna(data_total['Embarked'].mode()[0], inplace=True)\n",
    "\n",
    "# Filling missing 'Fare' values in the test set with the mean fare\n",
    "data_test['Fare'].fillna(data_total['Fare'].mean(), inplace=True)\n",
    "\n",
    "# Dropping 'Cabin' as it has too many missing values\n",
    "data_train.drop(columns=['Cabin'], inplace=True)\n",
    "\n",
    "data_test.drop(columns=['Cabin'], inplace=True)\n",
    "\n",
    "# Verifying the changes\n",
    "print(\"Missing values in training data after handling them:\")\n",
    "print(data_train.isnull().sum())\n",
    "\n",
    "print(\" \")\n",
    "# Verifying the changes\n",
    "print(\"Missing values in testing data after handling them:\")\n",
    "print(data_test.isnull().sum())"
   ]
  },
  {
   "cell_type": "markdown",
   "id": "6aed7be0-5e9e-4f0d-9511-39a270373c8f",
   "metadata": {},
   "source": [
    "### Explanation:\n",
    "#### I handled the missing values for **\"age\"** and **\"fare\"** column by filling it with mean age and mean fare and for the **\"embarked\"** column, I used mode value for replacing the null values.\n",
    "#### For the **\"cabin\"** column, I just dropped it because 75% of its data was missing, so there was no sense of keeping this column in the dataset."
   ]
  },
  {
   "cell_type": "code",
   "execution_count": 15,
   "id": "f583ab9a-cc6c-49bd-aae4-33ca898d594b",
   "metadata": {
    "tags": []
   },
   "outputs": [
    {
     "data": {
      "text/plain": [
       "11"
      ]
     },
     "execution_count": 15,
     "metadata": {},
     "output_type": "execute_result"
    }
   ],
   "source": [
    "updated_columns = data_train.shape[1]\n",
    "updated_columns"
   ]
  },
  {
   "cell_type": "markdown",
   "id": "e8afba3e-1d3a-4d86-ab98-5d6d34cad3b1",
   "metadata": {},
   "source": [
    "#### As we can see, after I dropped the **\"cabin\"** column in the preprocessing step, we only have 11 columns left now."
   ]
  },
  {
   "cell_type": "markdown",
   "id": "cf6da788-8733-43ad-8fe0-d287ce22ac23",
   "metadata": {},
   "source": [
    "## One Hot Encoding\n",
    "****"
   ]
  },
  {
   "cell_type": "markdown",
   "id": "c0755c64-c842-479d-9e1e-6ed2cb6aac87",
   "metadata": {},
   "source": [
    "#### I saw that there were two Categorical variables in the data:\n",
    "1. Sex: Gender of the passenger\n",
    "2. Embarked: Port of embarkation (C, Q, S)\n",
    "\n",
    "#### Pclass can be considered both ordinal and categorical, so for now, we will let it stay as it is and will apply the one hot encoding to \"Sex\" and \"Embarked\" columns."
   ]
  },
  {
   "cell_type": "code",
   "execution_count": 16,
   "id": "8d68b45e-2519-42c9-a774-a9f5eaa1a20c",
   "metadata": {
    "tags": []
   },
   "outputs": [],
   "source": [
    "# Ensure columns are in string format (in case they are mistakenly stored as numerical)\n",
    "data_train['Sex'] = data_train['Sex'].astype(str)\n",
    "data_train['Embarked'] = data_train['Embarked'].astype(str)"
   ]
  },
  {
   "cell_type": "code",
   "execution_count": 17,
   "id": "091b69a8-0c8a-4380-8bdd-603d4b1b3bb6",
   "metadata": {
    "tags": []
   },
   "outputs": [],
   "source": [
    "# Ensure columns are in string format (in case they are mistakenly stored as numerical)\n",
    "data_test['Sex'] = data_test['Sex'].astype(str)\n",
    "data_test['Embarked'] = data_test['Embarked'].astype(str)"
   ]
  },
  {
   "cell_type": "code",
   "execution_count": 18,
   "id": "d2527e8e-46ad-4162-a793-2f0fa9065242",
   "metadata": {
    "tags": []
   },
   "outputs": [
    {
     "data": {
      "text/html": [
       "<div>\n",
       "<style scoped>\n",
       "    .dataframe tbody tr th:only-of-type {\n",
       "        vertical-align: middle;\n",
       "    }\n",
       "\n",
       "    .dataframe tbody tr th {\n",
       "        vertical-align: top;\n",
       "    }\n",
       "\n",
       "    .dataframe thead th {\n",
       "        text-align: right;\n",
       "    }\n",
       "</style>\n",
       "<table border=\"1\" class=\"dataframe\">\n",
       "  <thead>\n",
       "    <tr style=\"text-align: right;\">\n",
       "      <th></th>\n",
       "      <th>PassengerId</th>\n",
       "      <th>Survived</th>\n",
       "      <th>Pclass</th>\n",
       "      <th>Name</th>\n",
       "      <th>Age</th>\n",
       "      <th>SibSp</th>\n",
       "      <th>Parch</th>\n",
       "      <th>Ticket</th>\n",
       "      <th>Fare</th>\n",
       "      <th>Sex_female</th>\n",
       "      <th>Sex_male</th>\n",
       "      <th>Embarked_C</th>\n",
       "      <th>Embarked_Q</th>\n",
       "      <th>Embarked_S</th>\n",
       "    </tr>\n",
       "  </thead>\n",
       "  <tbody>\n",
       "    <tr>\n",
       "      <th>0</th>\n",
       "      <td>1</td>\n",
       "      <td>0</td>\n",
       "      <td>3</td>\n",
       "      <td>Braund, Mr. Owen Harris</td>\n",
       "      <td>22.0</td>\n",
       "      <td>1</td>\n",
       "      <td>0</td>\n",
       "      <td>A/5 21171</td>\n",
       "      <td>7.2500</td>\n",
       "      <td>0</td>\n",
       "      <td>1</td>\n",
       "      <td>0</td>\n",
       "      <td>0</td>\n",
       "      <td>1</td>\n",
       "    </tr>\n",
       "    <tr>\n",
       "      <th>1</th>\n",
       "      <td>2</td>\n",
       "      <td>1</td>\n",
       "      <td>1</td>\n",
       "      <td>Cumings, Mrs. John Bradley (Florence Briggs Th...</td>\n",
       "      <td>38.0</td>\n",
       "      <td>1</td>\n",
       "      <td>0</td>\n",
       "      <td>PC 17599</td>\n",
       "      <td>71.2833</td>\n",
       "      <td>1</td>\n",
       "      <td>0</td>\n",
       "      <td>1</td>\n",
       "      <td>0</td>\n",
       "      <td>0</td>\n",
       "    </tr>\n",
       "    <tr>\n",
       "      <th>2</th>\n",
       "      <td>3</td>\n",
       "      <td>1</td>\n",
       "      <td>3</td>\n",
       "      <td>Heikkinen, Miss. Laina</td>\n",
       "      <td>26.0</td>\n",
       "      <td>0</td>\n",
       "      <td>0</td>\n",
       "      <td>STON/O2. 3101282</td>\n",
       "      <td>7.9250</td>\n",
       "      <td>1</td>\n",
       "      <td>0</td>\n",
       "      <td>0</td>\n",
       "      <td>0</td>\n",
       "      <td>1</td>\n",
       "    </tr>\n",
       "    <tr>\n",
       "      <th>3</th>\n",
       "      <td>4</td>\n",
       "      <td>1</td>\n",
       "      <td>1</td>\n",
       "      <td>Futrelle, Mrs. Jacques Heath (Lily May Peel)</td>\n",
       "      <td>35.0</td>\n",
       "      <td>1</td>\n",
       "      <td>0</td>\n",
       "      <td>113803</td>\n",
       "      <td>53.1000</td>\n",
       "      <td>1</td>\n",
       "      <td>0</td>\n",
       "      <td>0</td>\n",
       "      <td>0</td>\n",
       "      <td>1</td>\n",
       "    </tr>\n",
       "    <tr>\n",
       "      <th>4</th>\n",
       "      <td>5</td>\n",
       "      <td>0</td>\n",
       "      <td>3</td>\n",
       "      <td>Allen, Mr. William Henry</td>\n",
       "      <td>35.0</td>\n",
       "      <td>0</td>\n",
       "      <td>0</td>\n",
       "      <td>373450</td>\n",
       "      <td>8.0500</td>\n",
       "      <td>0</td>\n",
       "      <td>1</td>\n",
       "      <td>0</td>\n",
       "      <td>0</td>\n",
       "      <td>1</td>\n",
       "    </tr>\n",
       "  </tbody>\n",
       "</table>\n",
       "</div>"
      ],
      "text/plain": [
       "   PassengerId  Survived  Pclass  \\\n",
       "0            1         0       3   \n",
       "1            2         1       1   \n",
       "2            3         1       3   \n",
       "3            4         1       1   \n",
       "4            5         0       3   \n",
       "\n",
       "                                                Name   Age  SibSp  Parch  \\\n",
       "0                            Braund, Mr. Owen Harris  22.0      1      0   \n",
       "1  Cumings, Mrs. John Bradley (Florence Briggs Th...  38.0      1      0   \n",
       "2                             Heikkinen, Miss. Laina  26.0      0      0   \n",
       "3       Futrelle, Mrs. Jacques Heath (Lily May Peel)  35.0      1      0   \n",
       "4                           Allen, Mr. William Henry  35.0      0      0   \n",
       "\n",
       "             Ticket     Fare  Sex_female  Sex_male  Embarked_C  Embarked_Q  \\\n",
       "0         A/5 21171   7.2500           0         1           0           0   \n",
       "1          PC 17599  71.2833           1         0           1           0   \n",
       "2  STON/O2. 3101282   7.9250           1         0           0           0   \n",
       "3            113803  53.1000           1         0           0           0   \n",
       "4            373450   8.0500           0         1           0           0   \n",
       "\n",
       "   Embarked_S  \n",
       "0           1  \n",
       "1           0  \n",
       "2           1  \n",
       "3           1  \n",
       "4           1  "
      ]
     },
     "execution_count": 18,
     "metadata": {},
     "output_type": "execute_result"
    }
   ],
   "source": [
    "# One-hot encoding 'Sex' and 'Embarked'\n",
    "train_data_encoded = pd.get_dummies(data_train, columns=['Sex', 'Embarked'])\n",
    "\n",
    "# One-hot encoding 'Sex' and 'Embarked'\n",
    "test_data_encoded = pd.get_dummies(data_test, columns=['Sex', 'Embarked'])\n",
    "\n",
    "# Displaying the first few rows to confirm encoding\n",
    "train_data_encoded.head()"
   ]
  },
  {
   "cell_type": "markdown",
   "id": "a5a9c075-8d55-4c92-8e0c-580542fe9581",
   "metadata": {},
   "source": [
    "## Data Splitting\n",
    "*****"
   ]
  },
  {
   "cell_type": "code",
   "execution_count": 19,
   "id": "13f4d1ce-dc13-4df2-84d9-cca2136f201d",
   "metadata": {
    "tags": []
   },
   "outputs": [],
   "source": [
    "# Selecting all columns except the 'Survived' column as features\n",
    "train_data_features = train_data_encoded.drop(columns=['Survived', 'PassengerId', 'Name', 'Ticket'])\n",
    "\n",
    "# Selecting all columns except the 'Survived' column as features\n",
    "test_data_features = test_data_encoded.drop(columns=['PassengerId', 'Name', 'Ticket'])\n",
    "\n",
    "# Selecting the survived column as the target feature\n",
    "train_data_target = train_data_encoded['Survived']"
   ]
  },
  {
   "cell_type": "code",
   "execution_count": 20,
   "id": "b8735324-34a6-45d6-808d-3b608a4f949b",
   "metadata": {
    "tags": []
   },
   "outputs": [],
   "source": [
    "# Split training data into training and testing sets (e.g., 80% training, 20% testing)\n",
    "X_train, X_test, y_train, y_test = train_test_split(train_data_features, train_data_target, test_size=0.2, random_state=42)"
   ]
  },
  {
   "cell_type": "code",
   "execution_count": 21,
   "id": "bf3a8b7c-f532-4833-b341-f1d5122fe546",
   "metadata": {
    "tags": []
   },
   "outputs": [
    {
     "name": "stdout",
     "output_type": "stream",
     "text": [
      "Training set shape: (712, 10)\n",
      "Test set shape: (179, 10)\n"
     ]
    }
   ],
   "source": [
    "# Verifying the split\n",
    "print(\"Training set shape:\", X_train.shape)\n",
    "print(\"Test set shape:\", X_test.shape)"
   ]
  },
  {
   "cell_type": "markdown",
   "id": "621d05f0-920e-41d8-93f1-1f623c6b4472",
   "metadata": {},
   "source": [
    "## Decision tree model Building\n",
    "******"
   ]
  },
  {
   "cell_type": "code",
   "execution_count": 22,
   "id": "423d6a31-6674-41cb-92f2-781d3d9625c9",
   "metadata": {
    "tags": []
   },
   "outputs": [],
   "source": [
    "from sklearn.tree import export_graphviz\n",
    "import graphviz"
   ]
  },
  {
   "cell_type": "code",
   "execution_count": 23,
   "id": "486c97bd-2e9d-4b4d-a7ba-bf7b123d71aa",
   "metadata": {
    "tags": []
   },
   "outputs": [],
   "source": [
    "# Setting the criterion to \"entropy\" and max depth to 5\n",
    "decision_tree = DecisionTreeClassifier(criterion=\"entropy\", max_depth=5, random_state=42)"
   ]
  },
  {
   "cell_type": "code",
   "execution_count": 24,
   "id": "294973c5-2ee4-49af-8015-0111edb48730",
   "metadata": {
    "tags": []
   },
   "outputs": [
    {
     "data": {
      "text/plain": [
       "DecisionTreeClassifier(ccp_alpha=0.0, class_weight=None, criterion='entropy',\n",
       "                       max_depth=5, max_features=None, max_leaf_nodes=None,\n",
       "                       min_impurity_decrease=0.0, min_impurity_split=None,\n",
       "                       min_samples_leaf=1, min_samples_split=2,\n",
       "                       min_weight_fraction_leaf=0.0, presort='deprecated',\n",
       "                       random_state=42, splitter='best')"
      ]
     },
     "execution_count": 24,
     "metadata": {},
     "output_type": "execute_result"
    }
   ],
   "source": [
    "# Training the model\n",
    "decision_tree.fit(X_train, y_train)"
   ]
  },
  {
   "cell_type": "code",
   "execution_count": 25,
   "id": "87abf9e5-d5a3-4cb0-9279-05afa785a73d",
   "metadata": {
    "tags": []
   },
   "outputs": [
    {
     "name": "stdout",
     "output_type": "stream",
     "text": [
      "Training accuracy: 0.8045\n"
     ]
    }
   ],
   "source": [
    "# Scoring the model\n",
    "test_score = decision_tree.score(X_test, y_test)\n",
    "print(f\"Training accuracy: {test_score:.4f}\")"
   ]
  },
  {
   "cell_type": "code",
   "execution_count": 26,
   "id": "3041e31d-3c76-4dd9-bf16-1249bc95ff30",
   "metadata": {},
   "outputs": [],
   "source": [
    "# Visualizing the Decision Tree\n",
    "dot_data = export_graphviz(decision_tree, \n",
    "                            out_file=None, \n",
    "                            feature_names=X_train.columns, \n",
    "                            class_names=['Not Survived', 'Survived'], \n",
    "                            filled=True, \n",
    "                            rounded=True, \n",
    "                            special_characters=True)\n",
    "\n",
    "graph = graphviz.Source(dot_data) "
   ]
  },
  {
   "cell_type": "code",
   "execution_count": 27,
   "id": "6c7e643c-1937-4c1a-b5b0-add5d05ee035",
   "metadata": {
    "tags": []
   },
   "outputs": [
    {
     "data": {
      "image/svg+xml": [
       "<?xml version=\"1.0\" encoding=\"UTF-8\" standalone=\"no\"?>\n",
       "<!DOCTYPE svg PUBLIC \"-//W3C//DTD SVG 1.1//EN\"\n",
       " \"http://www.w3.org/Graphics/SVG/1.1/DTD/svg11.dtd\">\n",
       "<!-- Generated by graphviz version 12.1.2 (20240928.0832)\n",
       " -->\n",
       "<!-- Title: Tree Pages: 1 -->\n",
       "<svg width=\"2651pt\" height=\"693pt\"\n",
       " viewBox=\"0.00 0.00 2650.75 692.75\" xmlns=\"http://www.w3.org/2000/svg\" xmlns:xlink=\"http://www.w3.org/1999/xlink\">\n",
       "<g id=\"graph0\" class=\"graph\" transform=\"scale(1 1) rotate(0) translate(4 688.75)\">\n",
       "<title>Tree</title>\n",
       "<polygon fill=\"white\" stroke=\"none\" points=\"-4,4 -4,-688.75 2646.75,-688.75 2646.75,4 -4,4\"/>\n",
       "<!-- 0 -->\n",
       "<g id=\"node1\" class=\"node\">\n",
       "<title>0</title>\n",
       "<path fill=\"#f5cdb1\" stroke=\"black\" d=\"M1131.75,-684.75C1131.75,-684.75 1016,-684.75 1016,-684.75 1010,-684.75 1004,-678.75 1004,-672.75 1004,-672.75 1004,-610 1004,-610 1004,-604 1010,-598 1016,-598 1016,-598 1131.75,-598 1131.75,-598 1137.75,-598 1143.75,-604 1143.75,-610 1143.75,-610 1143.75,-672.75 1143.75,-672.75 1143.75,-678.75 1137.75,-684.75 1131.75,-684.75\"/>\n",
       "<text text-anchor=\"start\" x=\"1021\" y=\"-667.45\" font-family=\"Helvetica,sans-Serif\" font-size=\"14.00\">Sex_female ≤ 0.5</text>\n",
       "<text text-anchor=\"start\" x=\"1026.62\" y=\"-651.7\" font-family=\"Helvetica,sans-Serif\" font-size=\"14.00\">entropy = 0.955</text>\n",
       "<text text-anchor=\"start\" x=\"1029.25\" y=\"-635.95\" font-family=\"Helvetica,sans-Serif\" font-size=\"14.00\">samples = 712</text>\n",
       "<text text-anchor=\"start\" x=\"1019.88\" y=\"-620.2\" font-family=\"Helvetica,sans-Serif\" font-size=\"14.00\">value = [444, 268]</text>\n",
       "<text text-anchor=\"start\" x=\"1012\" y=\"-604.45\" font-family=\"Helvetica,sans-Serif\" font-size=\"14.00\">class = Not Survived</text>\n",
       "</g>\n",
       "<!-- 1 -->\n",
       "<g id=\"node2\" class=\"node\">\n",
       "<title>1</title>\n",
       "<path fill=\"#eb9e66\" stroke=\"black\" d=\"M755.75,-562C755.75,-562 640,-562 640,-562 634,-562 628,-556 628,-550 628,-550 628,-487.25 628,-487.25 628,-481.25 634,-475.25 640,-475.25 640,-475.25 755.75,-475.25 755.75,-475.25 761.75,-475.25 767.75,-481.25 767.75,-487.25 767.75,-487.25 767.75,-550 767.75,-550 767.75,-556 761.75,-562 755.75,-562\"/>\n",
       "<text text-anchor=\"start\" x=\"669\" y=\"-544.7\" font-family=\"Helvetica,sans-Serif\" font-size=\"14.00\">Age ≤ 6.5</text>\n",
       "<text text-anchor=\"start\" x=\"650.62\" y=\"-528.95\" font-family=\"Helvetica,sans-Serif\" font-size=\"14.00\">entropy = 0.694</text>\n",
       "<text text-anchor=\"start\" x=\"653.25\" y=\"-513.2\" font-family=\"Helvetica,sans-Serif\" font-size=\"14.00\">samples = 467</text>\n",
       "<text text-anchor=\"start\" x=\"647.62\" y=\"-497.45\" font-family=\"Helvetica,sans-Serif\" font-size=\"14.00\">value = [380, 87]</text>\n",
       "<text text-anchor=\"start\" x=\"636\" y=\"-481.7\" font-family=\"Helvetica,sans-Serif\" font-size=\"14.00\">class = Not Survived</text>\n",
       "</g>\n",
       "<!-- 0&#45;&gt;1 -->\n",
       "<g id=\"edge1\" class=\"edge\">\n",
       "<title>0&#45;&gt;1</title>\n",
       "<path fill=\"none\" stroke=\"black\" d=\"M1003.59,-617.8C939.87,-597.34 845.95,-567.18 779.04,-545.69\"/>\n",
       "<polygon fill=\"black\" stroke=\"black\" points=\"780.16,-542.38 769.57,-542.65 778.02,-549.04 780.16,-542.38\"/>\n",
       "<text text-anchor=\"middle\" x=\"779.56\" y=\"-559\" font-family=\"Helvetica,sans-Serif\" font-size=\"14.00\">True</text>\n",
       "</g>\n",
       "<!-- 22 -->\n",
       "<g id=\"node23\" class=\"node\">\n",
       "<title>22</title>\n",
       "<path fill=\"#7fc0ee\" stroke=\"black\" d=\"M1420.12,-562C1420.12,-562 1327.62,-562 1327.62,-562 1321.62,-562 1315.62,-556 1315.62,-550 1315.62,-550 1315.62,-487.25 1315.62,-487.25 1315.62,-481.25 1321.62,-475.25 1327.62,-475.25 1327.62,-475.25 1420.12,-475.25 1420.12,-475.25 1426.12,-475.25 1432.12,-481.25 1432.12,-487.25 1432.12,-487.25 1432.12,-550 1432.12,-550 1432.12,-556 1426.12,-562 1420.12,-562\"/>\n",
       "<text text-anchor=\"start\" x=\"1337.12\" y=\"-544.7\" font-family=\"Helvetica,sans-Serif\" font-size=\"14.00\">Pclass ≤ 2.5</text>\n",
       "<text text-anchor=\"start\" x=\"1326.62\" y=\"-528.95\" font-family=\"Helvetica,sans-Serif\" font-size=\"14.00\">entropy = 0.829</text>\n",
       "<text text-anchor=\"start\" x=\"1329.25\" y=\"-513.2\" font-family=\"Helvetica,sans-Serif\" font-size=\"14.00\">samples = 245</text>\n",
       "<text text-anchor=\"start\" x=\"1323.62\" y=\"-497.45\" font-family=\"Helvetica,sans-Serif\" font-size=\"14.00\">value = [64, 181]</text>\n",
       "<text text-anchor=\"start\" x=\"1324.38\" y=\"-481.7\" font-family=\"Helvetica,sans-Serif\" font-size=\"14.00\">class = Survived</text>\n",
       "</g>\n",
       "<!-- 0&#45;&gt;22 -->\n",
       "<g id=\"edge22\" class=\"edge\">\n",
       "<title>0&#45;&gt;22</title>\n",
       "<path fill=\"none\" stroke=\"black\" d=\"M1144.21,-612.06C1192.68,-592.56 1256.77,-566.76 1304.93,-547.38\"/>\n",
       "<polygon fill=\"black\" stroke=\"black\" points=\"1306.2,-550.64 1314.17,-543.66 1303.58,-544.15 1306.2,-550.64\"/>\n",
       "<text text-anchor=\"middle\" x=\"1305.77\" y=\"-560.67\" font-family=\"Helvetica,sans-Serif\" font-size=\"14.00\">False</text>\n",
       "</g>\n",
       "<!-- 2 -->\n",
       "<g id=\"node3\" class=\"node\">\n",
       "<title>2</title>\n",
       "<path fill=\"#95cbf1\" stroke=\"black\" d=\"M273.38,-439.25C273.38,-439.25 182.38,-439.25 182.38,-439.25 176.38,-439.25 170.38,-433.25 170.38,-427.25 170.38,-427.25 170.38,-364.5 170.38,-364.5 170.38,-358.5 176.38,-352.5 182.38,-352.5 182.38,-352.5 273.38,-352.5 273.38,-352.5 279.38,-352.5 285.38,-358.5 285.38,-364.5 285.38,-364.5 285.38,-427.25 285.38,-427.25 285.38,-433.25 279.38,-439.25 273.38,-439.25\"/>\n",
       "<text text-anchor=\"start\" x=\"193\" y=\"-421.95\" font-family=\"Helvetica,sans-Serif\" font-size=\"14.00\">SibSp ≤ 2.5</text>\n",
       "<text text-anchor=\"start\" x=\"180.62\" y=\"-406.2\" font-family=\"Helvetica,sans-Serif\" font-size=\"14.00\">entropy = 0.902</text>\n",
       "<text text-anchor=\"start\" x=\"187\" y=\"-390.45\" font-family=\"Helvetica,sans-Serif\" font-size=\"14.00\">samples = 22</text>\n",
       "<text text-anchor=\"start\" x=\"185.12\" y=\"-374.7\" font-family=\"Helvetica,sans-Serif\" font-size=\"14.00\">value = [7, 15]</text>\n",
       "<text text-anchor=\"start\" x=\"178.38\" y=\"-358.95\" font-family=\"Helvetica,sans-Serif\" font-size=\"14.00\">class = Survived</text>\n",
       "</g>\n",
       "<!-- 1&#45;&gt;2 -->\n",
       "<g id=\"edge2\" class=\"edge\">\n",
       "<title>1&#45;&gt;2</title>\n",
       "<path fill=\"none\" stroke=\"black\" d=\"M627.51,-499.55C538.24,-476.61 385.28,-437.31 296.73,-414.57\"/>\n",
       "<polygon fill=\"black\" stroke=\"black\" points=\"297.76,-411.22 287.2,-412.12 296.02,-418 297.76,-411.22\"/>\n",
       "</g>\n",
       "<!-- 9 -->\n",
       "<g id=\"node10\" class=\"node\">\n",
       "<title>9</title>\n",
       "<path fill=\"#ea995f\" stroke=\"black\" d=\"M755.75,-439.25C755.75,-439.25 640,-439.25 640,-439.25 634,-439.25 628,-433.25 628,-427.25 628,-427.25 628,-364.5 628,-364.5 628,-358.5 634,-352.5 640,-352.5 640,-352.5 755.75,-352.5 755.75,-352.5 761.75,-352.5 767.75,-358.5 767.75,-364.5 767.75,-364.5 767.75,-427.25 767.75,-427.25 767.75,-433.25 761.75,-439.25 755.75,-439.25\"/>\n",
       "<text text-anchor=\"start\" x=\"661.12\" y=\"-421.95\" font-family=\"Helvetica,sans-Serif\" font-size=\"14.00\">Pclass ≤ 1.5</text>\n",
       "<text text-anchor=\"start\" x=\"650.62\" y=\"-406.2\" font-family=\"Helvetica,sans-Serif\" font-size=\"14.00\">entropy = 0.639</text>\n",
       "<text text-anchor=\"start\" x=\"653.25\" y=\"-390.45\" font-family=\"Helvetica,sans-Serif\" font-size=\"14.00\">samples = 445</text>\n",
       "<text text-anchor=\"start\" x=\"647.62\" y=\"-374.7\" font-family=\"Helvetica,sans-Serif\" font-size=\"14.00\">value = [373, 72]</text>\n",
       "<text text-anchor=\"start\" x=\"636\" y=\"-358.95\" font-family=\"Helvetica,sans-Serif\" font-size=\"14.00\">class = Not Survived</text>\n",
       "</g>\n",
       "<!-- 1&#45;&gt;9 -->\n",
       "<g id=\"edge9\" class=\"edge\">\n",
       "<title>1&#45;&gt;9</title>\n",
       "<path fill=\"none\" stroke=\"black\" d=\"M697.88,-475.05C697.88,-467.21 697.88,-458.92 697.88,-450.79\"/>\n",
       "<polygon fill=\"black\" stroke=\"black\" points=\"701.38,-450.98 697.88,-440.98 694.38,-450.98 701.38,-450.98\"/>\n",
       "</g>\n",
       "<!-- 3 -->\n",
       "<g id=\"node4\" class=\"node\">\n",
       "<title>3</title>\n",
       "<path fill=\"#399de5\" stroke=\"black\" d=\"M128.38,-308.62C128.38,-308.62 37.38,-308.62 37.38,-308.62 31.38,-308.62 25.38,-302.62 25.38,-296.62 25.38,-296.62 25.38,-249.62 25.38,-249.62 25.38,-243.62 31.38,-237.62 37.38,-237.62 37.38,-237.62 128.38,-237.62 128.38,-237.62 134.38,-237.62 140.38,-243.62 140.38,-249.62 140.38,-249.62 140.38,-296.62 140.38,-296.62 140.38,-302.62 134.38,-308.62 128.38,-308.62\"/>\n",
       "<text text-anchor=\"start\" x=\"43.12\" y=\"-291.32\" font-family=\"Helvetica,sans-Serif\" font-size=\"14.00\">entropy = 0.0</text>\n",
       "<text text-anchor=\"start\" x=\"42\" y=\"-275.57\" font-family=\"Helvetica,sans-Serif\" font-size=\"14.00\">samples = 14</text>\n",
       "<text text-anchor=\"start\" x=\"40.12\" y=\"-259.82\" font-family=\"Helvetica,sans-Serif\" font-size=\"14.00\">value = [0, 14]</text>\n",
       "<text text-anchor=\"start\" x=\"33.38\" y=\"-244.07\" font-family=\"Helvetica,sans-Serif\" font-size=\"14.00\">class = Survived</text>\n",
       "</g>\n",
       "<!-- 2&#45;&gt;3 -->\n",
       "<g id=\"edge3\" class=\"edge\">\n",
       "<title>2&#45;&gt;3</title>\n",
       "<path fill=\"none\" stroke=\"black\" d=\"M176.75,-352.3C162.57,-340.49 147.2,-327.69 133.07,-315.93\"/>\n",
       "<polygon fill=\"black\" stroke=\"black\" points=\"135.55,-313.43 125.62,-309.72 131.07,-318.81 135.55,-313.43\"/>\n",
       "</g>\n",
       "<!-- 4 -->\n",
       "<g id=\"node5\" class=\"node\">\n",
       "<title>4</title>\n",
       "<path fill=\"#e99355\" stroke=\"black\" d=\"M285.75,-316.5C285.75,-316.5 170,-316.5 170,-316.5 164,-316.5 158,-310.5 158,-304.5 158,-304.5 158,-241.75 158,-241.75 158,-235.75 164,-229.75 170,-229.75 170,-229.75 285.75,-229.75 285.75,-229.75 291.75,-229.75 297.75,-235.75 297.75,-241.75 297.75,-241.75 297.75,-304.5 297.75,-304.5 297.75,-310.5 291.75,-316.5 285.75,-316.5\"/>\n",
       "<text text-anchor=\"start\" x=\"199\" y=\"-299.2\" font-family=\"Helvetica,sans-Serif\" font-size=\"14.00\">Age ≤ 2.5</text>\n",
       "<text text-anchor=\"start\" x=\"180.62\" y=\"-283.45\" font-family=\"Helvetica,sans-Serif\" font-size=\"14.00\">entropy = 0.544</text>\n",
       "<text text-anchor=\"start\" x=\"190.75\" y=\"-267.7\" font-family=\"Helvetica,sans-Serif\" font-size=\"14.00\">samples = 8</text>\n",
       "<text text-anchor=\"start\" x=\"188.88\" y=\"-251.95\" font-family=\"Helvetica,sans-Serif\" font-size=\"14.00\">value = [7, 1]</text>\n",
       "<text text-anchor=\"start\" x=\"166\" y=\"-236.2\" font-family=\"Helvetica,sans-Serif\" font-size=\"14.00\">class = Not Survived</text>\n",
       "</g>\n",
       "<!-- 2&#45;&gt;4 -->\n",
       "<g id=\"edge4\" class=\"edge\">\n",
       "<title>2&#45;&gt;4</title>\n",
       "<path fill=\"none\" stroke=\"black\" d=\"M227.88,-352.3C227.88,-344.46 227.88,-336.17 227.88,-328.04\"/>\n",
       "<polygon fill=\"black\" stroke=\"black\" points=\"231.38,-328.23 227.88,-318.23 224.38,-328.23 231.38,-328.23\"/>\n",
       "</g>\n",
       "<!-- 5 -->\n",
       "<g id=\"node6\" class=\"node\">\n",
       "<title>5</title>\n",
       "<path fill=\"#e58139\" stroke=\"black\" d=\"M127.75,-185.88C127.75,-185.88 12,-185.88 12,-185.88 6,-185.88 0,-179.88 0,-173.88 0,-173.88 0,-126.88 0,-126.88 0,-120.88 6,-114.88 12,-114.88 12,-114.88 127.75,-114.88 127.75,-114.88 133.75,-114.88 139.75,-120.88 139.75,-126.88 139.75,-126.88 139.75,-173.88 139.75,-173.88 139.75,-179.88 133.75,-185.88 127.75,-185.88\"/>\n",
       "<text text-anchor=\"start\" x=\"30.12\" y=\"-168.57\" font-family=\"Helvetica,sans-Serif\" font-size=\"14.00\">entropy = 0.0</text>\n",
       "<text text-anchor=\"start\" x=\"32.75\" y=\"-152.82\" font-family=\"Helvetica,sans-Serif\" font-size=\"14.00\">samples = 5</text>\n",
       "<text text-anchor=\"start\" x=\"30.88\" y=\"-137.07\" font-family=\"Helvetica,sans-Serif\" font-size=\"14.00\">value = [5, 0]</text>\n",
       "<text text-anchor=\"start\" x=\"8\" y=\"-121.33\" font-family=\"Helvetica,sans-Serif\" font-size=\"14.00\">class = Not Survived</text>\n",
       "</g>\n",
       "<!-- 4&#45;&gt;5 -->\n",
       "<g id=\"edge5\" class=\"edge\">\n",
       "<title>4&#45;&gt;5</title>\n",
       "<path fill=\"none\" stroke=\"black\" d=\"M172.17,-229.55C156.65,-217.69 139.81,-204.82 124.36,-193.01\"/>\n",
       "<polygon fill=\"black\" stroke=\"black\" points=\"126.71,-190.41 116.64,-187.12 122.46,-195.97 126.71,-190.41\"/>\n",
       "</g>\n",
       "<!-- 6 -->\n",
       "<g id=\"node7\" class=\"node\">\n",
       "<title>6</title>\n",
       "<path fill=\"#f2c09c\" stroke=\"black\" d=\"M285.75,-193.75C285.75,-193.75 170,-193.75 170,-193.75 164,-193.75 158,-187.75 158,-181.75 158,-181.75 158,-119 158,-119 158,-113 164,-107 170,-107 170,-107 285.75,-107 285.75,-107 291.75,-107 297.75,-113 297.75,-119 297.75,-119 297.75,-181.75 297.75,-181.75 297.75,-187.75 291.75,-193.75 285.75,-193.75\"/>\n",
       "<text text-anchor=\"start\" x=\"199\" y=\"-176.45\" font-family=\"Helvetica,sans-Serif\" font-size=\"14.00\">Age ≤ 3.5</text>\n",
       "<text text-anchor=\"start\" x=\"180.62\" y=\"-160.7\" font-family=\"Helvetica,sans-Serif\" font-size=\"14.00\">entropy = 0.918</text>\n",
       "<text text-anchor=\"start\" x=\"190.75\" y=\"-144.95\" font-family=\"Helvetica,sans-Serif\" font-size=\"14.00\">samples = 3</text>\n",
       "<text text-anchor=\"start\" x=\"188.88\" y=\"-129.2\" font-family=\"Helvetica,sans-Serif\" font-size=\"14.00\">value = [2, 1]</text>\n",
       "<text text-anchor=\"start\" x=\"166\" y=\"-113.45\" font-family=\"Helvetica,sans-Serif\" font-size=\"14.00\">class = Not Survived</text>\n",
       "</g>\n",
       "<!-- 4&#45;&gt;6 -->\n",
       "<g id=\"edge6\" class=\"edge\">\n",
       "<title>4&#45;&gt;6</title>\n",
       "<path fill=\"none\" stroke=\"black\" d=\"M227.88,-229.55C227.88,-221.71 227.88,-213.42 227.88,-205.29\"/>\n",
       "<polygon fill=\"black\" stroke=\"black\" points=\"231.38,-205.48 227.88,-195.48 224.38,-205.48 231.38,-205.48\"/>\n",
       "</g>\n",
       "<!-- 7 -->\n",
       "<g id=\"node8\" class=\"node\">\n",
       "<title>7</title>\n",
       "<path fill=\"#399de5\" stroke=\"black\" d=\"M134.38,-71C134.38,-71 43.38,-71 43.38,-71 37.38,-71 31.38,-65 31.38,-59 31.38,-59 31.38,-12 31.38,-12 31.38,-6 37.38,0 43.38,0 43.38,0 134.38,0 134.38,0 140.38,0 146.38,-6 146.38,-12 146.38,-12 146.38,-59 146.38,-59 146.38,-65 140.38,-71 134.38,-71\"/>\n",
       "<text text-anchor=\"start\" x=\"49.12\" y=\"-53.7\" font-family=\"Helvetica,sans-Serif\" font-size=\"14.00\">entropy = 0.0</text>\n",
       "<text text-anchor=\"start\" x=\"51.75\" y=\"-37.95\" font-family=\"Helvetica,sans-Serif\" font-size=\"14.00\">samples = 1</text>\n",
       "<text text-anchor=\"start\" x=\"49.88\" y=\"-22.2\" font-family=\"Helvetica,sans-Serif\" font-size=\"14.00\">value = [0, 1]</text>\n",
       "<text text-anchor=\"start\" x=\"39.38\" y=\"-6.45\" font-family=\"Helvetica,sans-Serif\" font-size=\"14.00\">class = Survived</text>\n",
       "</g>\n",
       "<!-- 6&#45;&gt;7 -->\n",
       "<g id=\"edge7\" class=\"edge\">\n",
       "<title>6&#45;&gt;7</title>\n",
       "<path fill=\"none\" stroke=\"black\" d=\"M175.33,-106.7C163.81,-97.35 151.63,-87.46 140.16,-78.15\"/>\n",
       "<polygon fill=\"black\" stroke=\"black\" points=\"142.7,-75.7 132.73,-72.11 138.29,-81.13 142.7,-75.7\"/>\n",
       "</g>\n",
       "<!-- 8 -->\n",
       "<g id=\"node9\" class=\"node\">\n",
       "<title>8</title>\n",
       "<path fill=\"#e58139\" stroke=\"black\" d=\"M291.75,-71C291.75,-71 176,-71 176,-71 170,-71 164,-65 164,-59 164,-59 164,-12 164,-12 164,-6 170,0 176,0 176,0 291.75,0 291.75,0 297.75,0 303.75,-6 303.75,-12 303.75,-12 303.75,-59 303.75,-59 303.75,-65 297.75,-71 291.75,-71\"/>\n",
       "<text text-anchor=\"start\" x=\"194.12\" y=\"-53.7\" font-family=\"Helvetica,sans-Serif\" font-size=\"14.00\">entropy = 0.0</text>\n",
       "<text text-anchor=\"start\" x=\"196.75\" y=\"-37.95\" font-family=\"Helvetica,sans-Serif\" font-size=\"14.00\">samples = 2</text>\n",
       "<text text-anchor=\"start\" x=\"194.88\" y=\"-22.2\" font-family=\"Helvetica,sans-Serif\" font-size=\"14.00\">value = [2, 0]</text>\n",
       "<text text-anchor=\"start\" x=\"172\" y=\"-6.45\" font-family=\"Helvetica,sans-Serif\" font-size=\"14.00\">class = Not Survived</text>\n",
       "</g>\n",
       "<!-- 6&#45;&gt;8 -->\n",
       "<g id=\"edge8\" class=\"edge\">\n",
       "<title>6&#45;&gt;8</title>\n",
       "<path fill=\"none\" stroke=\"black\" d=\"M230.14,-106.7C230.56,-98.82 231,-90.55 231.43,-82.57\"/>\n",
       "<polygon fill=\"black\" stroke=\"black\" points=\"234.92,-82.84 231.95,-72.67 227.93,-82.47 234.92,-82.84\"/>\n",
       "</g>\n",
       "<!-- 10 -->\n",
       "<g id=\"node11\" class=\"node\">\n",
       "<title>10</title>\n",
       "<path fill=\"#f2bf9a\" stroke=\"black\" d=\"M601.75,-316.5C601.75,-316.5 486,-316.5 486,-316.5 480,-316.5 474,-310.5 474,-304.5 474,-304.5 474,-241.75 474,-241.75 474,-235.75 480,-229.75 486,-229.75 486,-229.75 601.75,-229.75 601.75,-229.75 607.75,-229.75 613.75,-235.75 613.75,-241.75 613.75,-241.75 613.75,-304.5 613.75,-304.5 613.75,-310.5 607.75,-316.5 601.75,-316.5\"/>\n",
       "<text text-anchor=\"start\" x=\"501.88\" y=\"-299.2\" font-family=\"Helvetica,sans-Serif\" font-size=\"14.00\">Fare ≤ 26.144</text>\n",
       "<text text-anchor=\"start\" x=\"496.62\" y=\"-283.45\" font-family=\"Helvetica,sans-Serif\" font-size=\"14.00\">entropy = 0.915</text>\n",
       "<text text-anchor=\"start\" x=\"503\" y=\"-267.7\" font-family=\"Helvetica,sans-Serif\" font-size=\"14.00\">samples = 91</text>\n",
       "<text text-anchor=\"start\" x=\"497.38\" y=\"-251.95\" font-family=\"Helvetica,sans-Serif\" font-size=\"14.00\">value = [61, 30]</text>\n",
       "<text text-anchor=\"start\" x=\"482\" y=\"-236.2\" font-family=\"Helvetica,sans-Serif\" font-size=\"14.00\">class = Not Survived</text>\n",
       "</g>\n",
       "<!-- 9&#45;&gt;10 -->\n",
       "<g id=\"edge10\" class=\"edge\">\n",
       "<title>9&#45;&gt;10</title>\n",
       "<path fill=\"none\" stroke=\"black\" d=\"M643.58,-352.3C631.92,-343.16 619.49,-333.42 607.51,-324.02\"/>\n",
       "<polygon fill=\"black\" stroke=\"black\" points=\"609.68,-321.27 599.65,-317.86 605.36,-326.78 609.68,-321.27\"/>\n",
       "</g>\n",
       "<!-- 15 -->\n",
       "<g id=\"node16\" class=\"node\">\n",
       "<title>15</title>\n",
       "<path fill=\"#e89254\" stroke=\"black\" d=\"M835.75,-316.5C835.75,-316.5 720,-316.5 720,-316.5 714,-316.5 708,-310.5 708,-304.5 708,-304.5 708,-241.75 708,-241.75 708,-235.75 714,-229.75 720,-229.75 720,-229.75 835.75,-229.75 835.75,-229.75 841.75,-229.75 847.75,-235.75 847.75,-241.75 847.75,-241.75 847.75,-304.5 847.75,-304.5 847.75,-310.5 841.75,-316.5 835.75,-316.5\"/>\n",
       "<text text-anchor=\"start\" x=\"741.5\" y=\"-299.2\" font-family=\"Helvetica,sans-Serif\" font-size=\"14.00\">Age ≤ 32.25</text>\n",
       "<text text-anchor=\"start\" x=\"730.62\" y=\"-283.45\" font-family=\"Helvetica,sans-Serif\" font-size=\"14.00\">entropy = 0.525</text>\n",
       "<text text-anchor=\"start\" x=\"733.25\" y=\"-267.7\" font-family=\"Helvetica,sans-Serif\" font-size=\"14.00\">samples = 354</text>\n",
       "<text text-anchor=\"start\" x=\"727.62\" y=\"-251.95\" font-family=\"Helvetica,sans-Serif\" font-size=\"14.00\">value = [312, 42]</text>\n",
       "<text text-anchor=\"start\" x=\"716\" y=\"-236.2\" font-family=\"Helvetica,sans-Serif\" font-size=\"14.00\">class = Not Survived</text>\n",
       "</g>\n",
       "<!-- 9&#45;&gt;15 -->\n",
       "<g id=\"edge15\" class=\"edge\">\n",
       "<title>9&#45;&gt;15</title>\n",
       "<path fill=\"none\" stroke=\"black\" d=\"M726.08,-352.3C731.7,-343.83 737.65,-334.84 743.45,-326.08\"/>\n",
       "<polygon fill=\"black\" stroke=\"black\" points=\"746.21,-328.25 748.82,-317.98 740.38,-324.38 746.21,-328.25\"/>\n",
       "</g>\n",
       "<!-- 11 -->\n",
       "<g id=\"node12\" class=\"node\">\n",
       "<title>11</title>\n",
       "<path fill=\"#e58139\" stroke=\"black\" d=\"M443.75,-185.88C443.75,-185.88 328,-185.88 328,-185.88 322,-185.88 316,-179.88 316,-173.88 316,-173.88 316,-126.88 316,-126.88 316,-120.88 322,-114.88 328,-114.88 328,-114.88 443.75,-114.88 443.75,-114.88 449.75,-114.88 455.75,-120.88 455.75,-126.88 455.75,-126.88 455.75,-173.88 455.75,-173.88 455.75,-179.88 449.75,-185.88 443.75,-185.88\"/>\n",
       "<text text-anchor=\"start\" x=\"346.12\" y=\"-168.57\" font-family=\"Helvetica,sans-Serif\" font-size=\"14.00\">entropy = 0.0</text>\n",
       "<text text-anchor=\"start\" x=\"348.75\" y=\"-152.82\" font-family=\"Helvetica,sans-Serif\" font-size=\"14.00\">samples = 7</text>\n",
       "<text text-anchor=\"start\" x=\"346.88\" y=\"-137.07\" font-family=\"Helvetica,sans-Serif\" font-size=\"14.00\">value = [7, 0]</text>\n",
       "<text text-anchor=\"start\" x=\"324\" y=\"-121.33\" font-family=\"Helvetica,sans-Serif\" font-size=\"14.00\">class = Not Survived</text>\n",
       "</g>\n",
       "<!-- 10&#45;&gt;11 -->\n",
       "<g id=\"edge11\" class=\"edge\">\n",
       "<title>10&#45;&gt;11</title>\n",
       "<path fill=\"none\" stroke=\"black\" d=\"M488.17,-229.55C472.65,-217.69 455.81,-204.82 440.36,-193.01\"/>\n",
       "<polygon fill=\"black\" stroke=\"black\" points=\"442.71,-190.41 432.64,-187.12 438.46,-195.97 442.71,-190.41\"/>\n",
       "</g>\n",
       "<!-- 12 -->\n",
       "<g id=\"node13\" class=\"node\">\n",
       "<title>12</title>\n",
       "<path fill=\"#f3c7a7\" stroke=\"black\" d=\"M601.75,-193.75C601.75,-193.75 486,-193.75 486,-193.75 480,-193.75 474,-187.75 474,-181.75 474,-181.75 474,-119 474,-119 474,-113 480,-107 486,-107 486,-107 601.75,-107 601.75,-107 607.75,-107 613.75,-113 613.75,-119 613.75,-119 613.75,-181.75 613.75,-181.75 613.75,-187.75 607.75,-193.75 601.75,-193.75\"/>\n",
       "<text text-anchor=\"start\" x=\"501.88\" y=\"-176.45\" font-family=\"Helvetica,sans-Serif\" font-size=\"14.00\">Fare ≤ 26.419</text>\n",
       "<text text-anchor=\"start\" x=\"500.38\" y=\"-160.7\" font-family=\"Helvetica,sans-Serif\" font-size=\"14.00\">entropy = 0.94</text>\n",
       "<text text-anchor=\"start\" x=\"503\" y=\"-144.95\" font-family=\"Helvetica,sans-Serif\" font-size=\"14.00\">samples = 84</text>\n",
       "<text text-anchor=\"start\" x=\"497.38\" y=\"-129.2\" font-family=\"Helvetica,sans-Serif\" font-size=\"14.00\">value = [54, 30]</text>\n",
       "<text text-anchor=\"start\" x=\"482\" y=\"-113.45\" font-family=\"Helvetica,sans-Serif\" font-size=\"14.00\">class = Not Survived</text>\n",
       "</g>\n",
       "<!-- 10&#45;&gt;12 -->\n",
       "<g id=\"edge12\" class=\"edge\">\n",
       "<title>10&#45;&gt;12</title>\n",
       "<path fill=\"none\" stroke=\"black\" d=\"M543.88,-229.55C543.88,-221.71 543.88,-213.42 543.88,-205.29\"/>\n",
       "<polygon fill=\"black\" stroke=\"black\" points=\"547.38,-205.48 543.88,-195.48 540.38,-205.48 547.38,-205.48\"/>\n",
       "</g>\n",
       "<!-- 13 -->\n",
       "<g id=\"node14\" class=\"node\">\n",
       "<title>13</title>\n",
       "<path fill=\"#399de5\" stroke=\"black\" d=\"M437.38,-71C437.38,-71 346.38,-71 346.38,-71 340.38,-71 334.38,-65 334.38,-59 334.38,-59 334.38,-12 334.38,-12 334.38,-6 340.38,0 346.38,0 346.38,0 437.38,0 437.38,0 443.38,0 449.38,-6 449.38,-12 449.38,-12 449.38,-59 449.38,-59 449.38,-65 443.38,-71 437.38,-71\"/>\n",
       "<text text-anchor=\"start\" x=\"352.12\" y=\"-53.7\" font-family=\"Helvetica,sans-Serif\" font-size=\"14.00\">entropy = 0.0</text>\n",
       "<text text-anchor=\"start\" x=\"354.75\" y=\"-37.95\" font-family=\"Helvetica,sans-Serif\" font-size=\"14.00\">samples = 2</text>\n",
       "<text text-anchor=\"start\" x=\"352.88\" y=\"-22.2\" font-family=\"Helvetica,sans-Serif\" font-size=\"14.00\">value = [0, 2]</text>\n",
       "<text text-anchor=\"start\" x=\"342.38\" y=\"-6.45\" font-family=\"Helvetica,sans-Serif\" font-size=\"14.00\">class = Survived</text>\n",
       "</g>\n",
       "<!-- 12&#45;&gt;13 -->\n",
       "<g id=\"edge13\" class=\"edge\">\n",
       "<title>12&#45;&gt;13</title>\n",
       "<path fill=\"none\" stroke=\"black\" d=\"M486.41,-106.7C473.69,-97.26 460.24,-87.27 447.59,-77.87\"/>\n",
       "<polygon fill=\"black\" stroke=\"black\" points=\"449.88,-75.21 439.76,-72.06 445.7,-80.83 449.88,-75.21\"/>\n",
       "</g>\n",
       "<!-- 14 -->\n",
       "<g id=\"node15\" class=\"node\">\n",
       "<title>14</title>\n",
       "<path fill=\"#f2c2a0\" stroke=\"black\" d=\"M594.75,-71C594.75,-71 479,-71 479,-71 473,-71 467,-65 467,-59 467,-59 467,-12 467,-12 467,-6 473,0 479,0 479,0 594.75,0 594.75,0 600.75,0 606.75,-6 606.75,-12 606.75,-12 606.75,-59 606.75,-59 606.75,-65 600.75,-71 594.75,-71\"/>\n",
       "<text text-anchor=\"start\" x=\"489.62\" y=\"-53.7\" font-family=\"Helvetica,sans-Serif\" font-size=\"14.00\">entropy = 0.926</text>\n",
       "<text text-anchor=\"start\" x=\"496\" y=\"-37.95\" font-family=\"Helvetica,sans-Serif\" font-size=\"14.00\">samples = 82</text>\n",
       "<text text-anchor=\"start\" x=\"490.38\" y=\"-22.2\" font-family=\"Helvetica,sans-Serif\" font-size=\"14.00\">value = [54, 28]</text>\n",
       "<text text-anchor=\"start\" x=\"475\" y=\"-6.45\" font-family=\"Helvetica,sans-Serif\" font-size=\"14.00\">class = Not Survived</text>\n",
       "</g>\n",
       "<!-- 12&#45;&gt;14 -->\n",
       "<g id=\"edge14\" class=\"edge\">\n",
       "<title>12&#45;&gt;14</title>\n",
       "<path fill=\"none\" stroke=\"black\" d=\"M541.23,-106.7C540.74,-98.82 540.23,-90.55 539.73,-82.57\"/>\n",
       "<polygon fill=\"black\" stroke=\"black\" points=\"543.23,-82.43 539.12,-72.67 536.24,-82.87 543.23,-82.43\"/>\n",
       "</g>\n",
       "<!-- 16 -->\n",
       "<g id=\"node17\" class=\"node\">\n",
       "<title>16</title>\n",
       "<path fill=\"#e99659\" stroke=\"black\" d=\"M835.75,-193.75C835.75,-193.75 720,-193.75 720,-193.75 714,-193.75 708,-187.75 708,-181.75 708,-181.75 708,-119 708,-119 708,-113 714,-107 720,-107 720,-107 835.75,-107 835.75,-107 841.75,-107 847.75,-113 847.75,-119 847.75,-119 847.75,-181.75 847.75,-181.75 847.75,-187.75 841.75,-193.75 835.75,-193.75\"/>\n",
       "<text text-anchor=\"start\" x=\"745.25\" y=\"-176.45\" font-family=\"Helvetica,sans-Serif\" font-size=\"14.00\">Age ≤ 31.5</text>\n",
       "<text text-anchor=\"start\" x=\"730.62\" y=\"-160.7\" font-family=\"Helvetica,sans-Serif\" font-size=\"14.00\">entropy = 0.585</text>\n",
       "<text text-anchor=\"start\" x=\"733.25\" y=\"-144.95\" font-family=\"Helvetica,sans-Serif\" font-size=\"14.00\">samples = 264</text>\n",
       "<text text-anchor=\"start\" x=\"727.62\" y=\"-129.2\" font-family=\"Helvetica,sans-Serif\" font-size=\"14.00\">value = [227, 37]</text>\n",
       "<text text-anchor=\"start\" x=\"716\" y=\"-113.45\" font-family=\"Helvetica,sans-Serif\" font-size=\"14.00\">class = Not Survived</text>\n",
       "</g>\n",
       "<!-- 15&#45;&gt;16 -->\n",
       "<g id=\"edge16\" class=\"edge\">\n",
       "<title>15&#45;&gt;16</title>\n",
       "<path fill=\"none\" stroke=\"black\" d=\"M777.88,-229.55C777.88,-221.71 777.88,-213.42 777.88,-205.29\"/>\n",
       "<polygon fill=\"black\" stroke=\"black\" points=\"781.38,-205.48 777.88,-195.48 774.38,-205.48 781.38,-205.48\"/>\n",
       "</g>\n",
       "<!-- 19 -->\n",
       "<g id=\"node20\" class=\"node\">\n",
       "<title>19</title>\n",
       "<path fill=\"#e78845\" stroke=\"black\" d=\"M1068.75,-193.75C1068.75,-193.75 953,-193.75 953,-193.75 947,-193.75 941,-187.75 941,-181.75 941,-181.75 941,-119 941,-119 941,-113 947,-107 953,-107 953,-107 1068.75,-107 1068.75,-107 1074.75,-107 1080.75,-113 1080.75,-119 1080.75,-119 1080.75,-181.75 1080.75,-181.75 1080.75,-187.75 1074.75,-193.75 1068.75,-193.75\"/>\n",
       "<text text-anchor=\"start\" x=\"972.62\" y=\"-176.45\" font-family=\"Helvetica,sans-Serif\" font-size=\"14.00\">Fare ≤ 13.25</text>\n",
       "<text text-anchor=\"start\" x=\"967.38\" y=\"-160.7\" font-family=\"Helvetica,sans-Serif\" font-size=\"14.00\">entropy = 0.31</text>\n",
       "<text text-anchor=\"start\" x=\"970\" y=\"-144.95\" font-family=\"Helvetica,sans-Serif\" font-size=\"14.00\">samples = 90</text>\n",
       "<text text-anchor=\"start\" x=\"968.12\" y=\"-129.2\" font-family=\"Helvetica,sans-Serif\" font-size=\"14.00\">value = [85, 5]</text>\n",
       "<text text-anchor=\"start\" x=\"949\" y=\"-113.45\" font-family=\"Helvetica,sans-Serif\" font-size=\"14.00\">class = Not Survived</text>\n",
       "</g>\n",
       "<!-- 15&#45;&gt;19 -->\n",
       "<g id=\"edge19\" class=\"edge\">\n",
       "<title>15&#45;&gt;19</title>\n",
       "<path fill=\"none\" stroke=\"black\" d=\"M848.1,-235.73C874.12,-222.25 903.82,-206.86 930.66,-192.95\"/>\n",
       "<polygon fill=\"black\" stroke=\"black\" points=\"932.18,-196.1 939.45,-188.39 928.96,-189.88 932.18,-196.1\"/>\n",
       "</g>\n",
       "<!-- 17 -->\n",
       "<g id=\"node18\" class=\"node\">\n",
       "<title>17</title>\n",
       "<path fill=\"#e99355\" stroke=\"black\" d=\"M752.75,-71C752.75,-71 637,-71 637,-71 631,-71 625,-65 625,-59 625,-59 625,-12 625,-12 625,-6 631,0 637,0 637,0 752.75,0 752.75,0 758.75,0 764.75,-6 764.75,-12 764.75,-12 764.75,-59 764.75,-59 764.75,-65 758.75,-71 752.75,-71\"/>\n",
       "<text text-anchor=\"start\" x=\"647.62\" y=\"-53.7\" font-family=\"Helvetica,sans-Serif\" font-size=\"14.00\">entropy = 0.539</text>\n",
       "<text text-anchor=\"start\" x=\"650.25\" y=\"-37.95\" font-family=\"Helvetica,sans-Serif\" font-size=\"14.00\">samples = 251</text>\n",
       "<text text-anchor=\"start\" x=\"644.62\" y=\"-22.2\" font-family=\"Helvetica,sans-Serif\" font-size=\"14.00\">value = [220, 31]</text>\n",
       "<text text-anchor=\"start\" x=\"633\" y=\"-6.45\" font-family=\"Helvetica,sans-Serif\" font-size=\"14.00\">class = Not Survived</text>\n",
       "</g>\n",
       "<!-- 16&#45;&gt;17 -->\n",
       "<g id=\"edge17\" class=\"edge\">\n",
       "<title>16&#45;&gt;17</title>\n",
       "<path fill=\"none\" stroke=\"black\" d=\"M746.5,-106.7C740.16,-98.08 733.48,-89.01 727.12,-80.35\"/>\n",
       "<polygon fill=\"black\" stroke=\"black\" points=\"730,-78.36 721.26,-72.38 724.36,-82.51 730,-78.36\"/>\n",
       "</g>\n",
       "<!-- 18 -->\n",
       "<g id=\"node19\" class=\"node\">\n",
       "<title>18</title>\n",
       "<path fill=\"#fbede3\" stroke=\"black\" d=\"M910.75,-71C910.75,-71 795,-71 795,-71 789,-71 783,-65 783,-59 783,-59 783,-12 783,-12 783,-6 789,0 795,0 795,0 910.75,0 910.75,0 916.75,0 922.75,-6 922.75,-12 922.75,-12 922.75,-59 922.75,-59 922.75,-65 916.75,-71 910.75,-71\"/>\n",
       "<text text-anchor=\"start\" x=\"805.62\" y=\"-53.7\" font-family=\"Helvetica,sans-Serif\" font-size=\"14.00\">entropy = 0.996</text>\n",
       "<text text-anchor=\"start\" x=\"812\" y=\"-37.95\" font-family=\"Helvetica,sans-Serif\" font-size=\"14.00\">samples = 13</text>\n",
       "<text text-anchor=\"start\" x=\"813.88\" y=\"-22.2\" font-family=\"Helvetica,sans-Serif\" font-size=\"14.00\">value = [7, 6]</text>\n",
       "<text text-anchor=\"start\" x=\"791\" y=\"-6.45\" font-family=\"Helvetica,sans-Serif\" font-size=\"14.00\">class = Not Survived</text>\n",
       "</g>\n",
       "<!-- 16&#45;&gt;18 -->\n",
       "<g id=\"edge18\" class=\"edge\">\n",
       "<title>16&#45;&gt;18</title>\n",
       "<path fill=\"none\" stroke=\"black\" d=\"M806.23,-106.7C811.9,-98.17 817.86,-89.2 823.56,-80.62\"/>\n",
       "<polygon fill=\"black\" stroke=\"black\" points=\"826.39,-82.68 829.01,-72.42 820.56,-78.81 826.39,-82.68\"/>\n",
       "</g>\n",
       "<!-- 20 -->\n",
       "<g id=\"node21\" class=\"node\">\n",
       "<title>20</title>\n",
       "<path fill=\"#e78c4a\" stroke=\"black\" d=\"M1068.75,-71C1068.75,-71 953,-71 953,-71 947,-71 941,-65 941,-59 941,-59 941,-12 941,-12 941,-6 947,0 953,0 953,0 1068.75,0 1068.75,0 1074.75,0 1080.75,-6 1080.75,-12 1080.75,-12 1080.75,-59 1080.75,-59 1080.75,-65 1074.75,-71 1068.75,-71\"/>\n",
       "<text text-anchor=\"start\" x=\"963.62\" y=\"-53.7\" font-family=\"Helvetica,sans-Serif\" font-size=\"14.00\">entropy = 0.404</text>\n",
       "<text text-anchor=\"start\" x=\"970\" y=\"-37.95\" font-family=\"Helvetica,sans-Serif\" font-size=\"14.00\">samples = 62</text>\n",
       "<text text-anchor=\"start\" x=\"968.12\" y=\"-22.2\" font-family=\"Helvetica,sans-Serif\" font-size=\"14.00\">value = [57, 5]</text>\n",
       "<text text-anchor=\"start\" x=\"949\" y=\"-6.45\" font-family=\"Helvetica,sans-Serif\" font-size=\"14.00\">class = Not Survived</text>\n",
       "</g>\n",
       "<!-- 19&#45;&gt;20 -->\n",
       "<g id=\"edge20\" class=\"edge\">\n",
       "<title>19&#45;&gt;20</title>\n",
       "<path fill=\"none\" stroke=\"black\" d=\"M1010.88,-106.7C1010.88,-98.82 1010.88,-90.55 1010.88,-82.57\"/>\n",
       "<polygon fill=\"black\" stroke=\"black\" points=\"1014.38,-82.67 1010.88,-72.67 1007.38,-82.67 1014.38,-82.67\"/>\n",
       "</g>\n",
       "<!-- 21 -->\n",
       "<g id=\"node22\" class=\"node\">\n",
       "<title>21</title>\n",
       "<path fill=\"#e58139\" stroke=\"black\" d=\"M1226.75,-71C1226.75,-71 1111,-71 1111,-71 1105,-71 1099,-65 1099,-59 1099,-59 1099,-12 1099,-12 1099,-6 1105,0 1111,0 1111,0 1226.75,0 1226.75,0 1232.75,0 1238.75,-6 1238.75,-12 1238.75,-12 1238.75,-59 1238.75,-59 1238.75,-65 1232.75,-71 1226.75,-71\"/>\n",
       "<text text-anchor=\"start\" x=\"1129.12\" y=\"-53.7\" font-family=\"Helvetica,sans-Serif\" font-size=\"14.00\">entropy = 0.0</text>\n",
       "<text text-anchor=\"start\" x=\"1128\" y=\"-37.95\" font-family=\"Helvetica,sans-Serif\" font-size=\"14.00\">samples = 28</text>\n",
       "<text text-anchor=\"start\" x=\"1126.12\" y=\"-22.2\" font-family=\"Helvetica,sans-Serif\" font-size=\"14.00\">value = [28, 0]</text>\n",
       "<text text-anchor=\"start\" x=\"1107\" y=\"-6.45\" font-family=\"Helvetica,sans-Serif\" font-size=\"14.00\">class = Not Survived</text>\n",
       "</g>\n",
       "<!-- 19&#45;&gt;21 -->\n",
       "<g id=\"edge21\" class=\"edge\">\n",
       "<title>19&#45;&gt;21</title>\n",
       "<path fill=\"none\" stroke=\"black\" d=\"M1070.61,-106.7C1083.76,-97.31 1097.67,-87.37 1110.75,-78.02\"/>\n",
       "<polygon fill=\"black\" stroke=\"black\" points=\"1112.78,-80.88 1118.88,-72.22 1108.71,-75.18 1112.78,-80.88\"/>\n",
       "</g>\n",
       "<!-- 23 -->\n",
       "<g id=\"node24\" class=\"node\">\n",
       "<title>23</title>\n",
       "<path fill=\"#41a1e6\" stroke=\"black\" d=\"M1419.38,-439.25C1419.38,-439.25 1328.38,-439.25 1328.38,-439.25 1322.38,-439.25 1316.38,-433.25 1316.38,-427.25 1316.38,-427.25 1316.38,-364.5 1316.38,-364.5 1316.38,-358.5 1322.38,-352.5 1328.38,-352.5 1328.38,-352.5 1419.38,-352.5 1419.38,-352.5 1425.38,-352.5 1431.38,-358.5 1431.38,-364.5 1431.38,-364.5 1431.38,-427.25 1431.38,-427.25 1431.38,-433.25 1425.38,-439.25 1419.38,-439.25\"/>\n",
       "<text text-anchor=\"start\" x=\"1345\" y=\"-421.95\" font-family=\"Helvetica,sans-Serif\" font-size=\"14.00\">Age ≤ 2.5</text>\n",
       "<text text-anchor=\"start\" x=\"1326.62\" y=\"-406.2\" font-family=\"Helvetica,sans-Serif\" font-size=\"14.00\">entropy = 0.235</text>\n",
       "<text text-anchor=\"start\" x=\"1329.25\" y=\"-390.45\" font-family=\"Helvetica,sans-Serif\" font-size=\"14.00\">samples = 130</text>\n",
       "<text text-anchor=\"start\" x=\"1327.38\" y=\"-374.7\" font-family=\"Helvetica,sans-Serif\" font-size=\"14.00\">value = [5, 125]</text>\n",
       "<text text-anchor=\"start\" x=\"1324.38\" y=\"-358.95\" font-family=\"Helvetica,sans-Serif\" font-size=\"14.00\">class = Survived</text>\n",
       "</g>\n",
       "<!-- 22&#45;&gt;23 -->\n",
       "<g id=\"edge23\" class=\"edge\">\n",
       "<title>22&#45;&gt;23</title>\n",
       "<path fill=\"none\" stroke=\"black\" d=\"M1373.88,-475.05C1373.88,-467.21 1373.88,-458.92 1373.88,-450.79\"/>\n",
       "<polygon fill=\"black\" stroke=\"black\" points=\"1377.38,-450.98 1373.88,-440.98 1370.38,-450.98 1377.38,-450.98\"/>\n",
       "</g>\n",
       "<!-- 34 -->\n",
       "<g id=\"node35\" class=\"node\">\n",
       "<title>34</title>\n",
       "<path fill=\"#fef9f5\" stroke=\"black\" d=\"M2102.75,-439.25C2102.75,-439.25 1987,-439.25 1987,-439.25 1981,-439.25 1975,-433.25 1975,-427.25 1975,-427.25 1975,-364.5 1975,-364.5 1975,-358.5 1981,-352.5 1987,-352.5 1987,-352.5 2102.75,-352.5 2102.75,-352.5 2108.75,-352.5 2114.75,-358.5 2114.75,-364.5 2114.75,-364.5 2114.75,-427.25 2114.75,-427.25 2114.75,-433.25 2108.75,-439.25 2102.75,-439.25\"/>\n",
       "<text text-anchor=\"start\" x=\"2006.62\" y=\"-421.95\" font-family=\"Helvetica,sans-Serif\" font-size=\"14.00\">Fare ≤ 23.35</text>\n",
       "<text text-anchor=\"start\" x=\"2005.12\" y=\"-406.2\" font-family=\"Helvetica,sans-Serif\" font-size=\"14.00\">entropy = 1.0</text>\n",
       "<text text-anchor=\"start\" x=\"2000.62\" y=\"-390.45\" font-family=\"Helvetica,sans-Serif\" font-size=\"14.00\">samples = 115</text>\n",
       "<text text-anchor=\"start\" x=\"1998.38\" y=\"-374.7\" font-family=\"Helvetica,sans-Serif\" font-size=\"14.00\">value = [59, 56]</text>\n",
       "<text text-anchor=\"start\" x=\"1983\" y=\"-358.95\" font-family=\"Helvetica,sans-Serif\" font-size=\"14.00\">class = Not Survived</text>\n",
       "</g>\n",
       "<!-- 22&#45;&gt;34 -->\n",
       "<g id=\"edge34\" class=\"edge\">\n",
       "<title>22&#45;&gt;34</title>\n",
       "<path fill=\"none\" stroke=\"black\" d=\"M1432.54,-507.07C1552.51,-485.48 1826.11,-436.24 1963.29,-411.56\"/>\n",
       "<polygon fill=\"black\" stroke=\"black\" points=\"1963.82,-415.02 1973.04,-409.8 1962.58,-408.13 1963.82,-415.02\"/>\n",
       "</g>\n",
       "<!-- 24 -->\n",
       "<g id=\"node25\" class=\"node\">\n",
       "<title>24</title>\n",
       "<path fill=\"#ffffff\" stroke=\"black\" d=\"M1359.75,-316.5C1359.75,-316.5 1244,-316.5 1244,-316.5 1238,-316.5 1232,-310.5 1232,-304.5 1232,-304.5 1232,-241.75 1232,-241.75 1232,-235.75 1238,-229.75 1244,-229.75 1244,-229.75 1359.75,-229.75 1359.75,-229.75 1365.75,-229.75 1371.75,-235.75 1371.75,-241.75 1371.75,-241.75 1371.75,-304.5 1371.75,-304.5 1371.75,-310.5 1365.75,-316.5 1359.75,-316.5\"/>\n",
       "<text text-anchor=\"start\" x=\"1267.38\" y=\"-299.2\" font-family=\"Helvetica,sans-Serif\" font-size=\"14.00\">Parch ≤ 1.5</text>\n",
       "<text text-anchor=\"start\" x=\"1262.12\" y=\"-283.45\" font-family=\"Helvetica,sans-Serif\" font-size=\"14.00\">entropy = 1.0</text>\n",
       "<text text-anchor=\"start\" x=\"1264.75\" y=\"-267.7\" font-family=\"Helvetica,sans-Serif\" font-size=\"14.00\">samples = 2</text>\n",
       "<text text-anchor=\"start\" x=\"1262.88\" y=\"-251.95\" font-family=\"Helvetica,sans-Serif\" font-size=\"14.00\">value = [1, 1]</text>\n",
       "<text text-anchor=\"start\" x=\"1240\" y=\"-236.2\" font-family=\"Helvetica,sans-Serif\" font-size=\"14.00\">class = Not Survived</text>\n",
       "</g>\n",
       "<!-- 23&#45;&gt;24 -->\n",
       "<g id=\"edge24\" class=\"edge\">\n",
       "<title>23&#45;&gt;24</title>\n",
       "<path fill=\"none\" stroke=\"black\" d=\"M1348.49,-352.3C1343.49,-343.92 1338.19,-335.03 1333.02,-326.36\"/>\n",
       "<polygon fill=\"black\" stroke=\"black\" points=\"1336.18,-324.82 1328.05,-318.02 1330.16,-328.4 1336.18,-324.82\"/>\n",
       "</g>\n",
       "<!-- 27 -->\n",
       "<g id=\"node28\" class=\"node\">\n",
       "<title>27</title>\n",
       "<path fill=\"#3fa0e6\" stroke=\"black\" d=\"M1492.38,-316.5C1492.38,-316.5 1401.38,-316.5 1401.38,-316.5 1395.38,-316.5 1389.38,-310.5 1389.38,-304.5 1389.38,-304.5 1389.38,-241.75 1389.38,-241.75 1389.38,-235.75 1395.38,-229.75 1401.38,-229.75 1401.38,-229.75 1492.38,-229.75 1492.38,-229.75 1498.38,-229.75 1504.38,-235.75 1504.38,-241.75 1504.38,-241.75 1504.38,-304.5 1504.38,-304.5 1504.38,-310.5 1498.38,-316.5 1492.38,-316.5\"/>\n",
       "<text text-anchor=\"start\" x=\"1414.25\" y=\"-299.2\" font-family=\"Helvetica,sans-Serif\" font-size=\"14.00\">Age ≤ 27.5</text>\n",
       "<text text-anchor=\"start\" x=\"1399.62\" y=\"-283.45\" font-family=\"Helvetica,sans-Serif\" font-size=\"14.00\">entropy = 0.201</text>\n",
       "<text text-anchor=\"start\" x=\"1402.25\" y=\"-267.7\" font-family=\"Helvetica,sans-Serif\" font-size=\"14.00\">samples = 128</text>\n",
       "<text text-anchor=\"start\" x=\"1400.38\" y=\"-251.95\" font-family=\"Helvetica,sans-Serif\" font-size=\"14.00\">value = [4, 124]</text>\n",
       "<text text-anchor=\"start\" x=\"1397.38\" y=\"-236.2\" font-family=\"Helvetica,sans-Serif\" font-size=\"14.00\">class = Survived</text>\n",
       "</g>\n",
       "<!-- 23&#45;&gt;27 -->\n",
       "<g id=\"edge27\" class=\"edge\">\n",
       "<title>23&#45;&gt;27</title>\n",
       "<path fill=\"none\" stroke=\"black\" d=\"M1399.61,-352.3C1404.68,-343.92 1410.06,-335.03 1415.29,-326.36\"/>\n",
       "<polygon fill=\"black\" stroke=\"black\" points=\"1418.16,-328.38 1420.34,-318.01 1412.17,-324.76 1418.16,-328.38\"/>\n",
       "</g>\n",
       "<!-- 25 -->\n",
       "<g id=\"node26\" class=\"node\">\n",
       "<title>25</title>\n",
       "<path fill=\"#399de5\" stroke=\"black\" d=\"M1202.38,-185.88C1202.38,-185.88 1111.38,-185.88 1111.38,-185.88 1105.38,-185.88 1099.38,-179.88 1099.38,-173.88 1099.38,-173.88 1099.38,-126.88 1099.38,-126.88 1099.38,-120.88 1105.38,-114.88 1111.38,-114.88 1111.38,-114.88 1202.38,-114.88 1202.38,-114.88 1208.38,-114.88 1214.38,-120.88 1214.38,-126.88 1214.38,-126.88 1214.38,-173.88 1214.38,-173.88 1214.38,-179.88 1208.38,-185.88 1202.38,-185.88\"/>\n",
       "<text text-anchor=\"start\" x=\"1117.12\" y=\"-168.57\" font-family=\"Helvetica,sans-Serif\" font-size=\"14.00\">entropy = 0.0</text>\n",
       "<text text-anchor=\"start\" x=\"1119.75\" y=\"-152.82\" font-family=\"Helvetica,sans-Serif\" font-size=\"14.00\">samples = 1</text>\n",
       "<text text-anchor=\"start\" x=\"1117.88\" y=\"-137.07\" font-family=\"Helvetica,sans-Serif\" font-size=\"14.00\">value = [0, 1]</text>\n",
       "<text text-anchor=\"start\" x=\"1107.38\" y=\"-121.33\" font-family=\"Helvetica,sans-Serif\" font-size=\"14.00\">class = Survived</text>\n",
       "</g>\n",
       "<!-- 24&#45;&gt;25 -->\n",
       "<g id=\"edge25\" class=\"edge\">\n",
       "<title>24&#45;&gt;25</title>\n",
       "<path fill=\"none\" stroke=\"black\" d=\"M1250.75,-229.55C1236.57,-217.74 1221.2,-204.94 1207.07,-193.18\"/>\n",
       "<polygon fill=\"black\" stroke=\"black\" points=\"1209.55,-190.68 1199.62,-186.97 1205.07,-196.06 1209.55,-190.68\"/>\n",
       "</g>\n",
       "<!-- 26 -->\n",
       "<g id=\"node27\" class=\"node\">\n",
       "<title>26</title>\n",
       "<path fill=\"#e58139\" stroke=\"black\" d=\"M1359.75,-185.88C1359.75,-185.88 1244,-185.88 1244,-185.88 1238,-185.88 1232,-179.88 1232,-173.88 1232,-173.88 1232,-126.88 1232,-126.88 1232,-120.88 1238,-114.88 1244,-114.88 1244,-114.88 1359.75,-114.88 1359.75,-114.88 1365.75,-114.88 1371.75,-120.88 1371.75,-126.88 1371.75,-126.88 1371.75,-173.88 1371.75,-173.88 1371.75,-179.88 1365.75,-185.88 1359.75,-185.88\"/>\n",
       "<text text-anchor=\"start\" x=\"1262.12\" y=\"-168.57\" font-family=\"Helvetica,sans-Serif\" font-size=\"14.00\">entropy = 0.0</text>\n",
       "<text text-anchor=\"start\" x=\"1264.75\" y=\"-152.82\" font-family=\"Helvetica,sans-Serif\" font-size=\"14.00\">samples = 1</text>\n",
       "<text text-anchor=\"start\" x=\"1262.88\" y=\"-137.07\" font-family=\"Helvetica,sans-Serif\" font-size=\"14.00\">value = [1, 0]</text>\n",
       "<text text-anchor=\"start\" x=\"1240\" y=\"-121.33\" font-family=\"Helvetica,sans-Serif\" font-size=\"14.00\">class = Not Survived</text>\n",
       "</g>\n",
       "<!-- 24&#45;&gt;26 -->\n",
       "<g id=\"edge26\" class=\"edge\">\n",
       "<title>24&#45;&gt;26</title>\n",
       "<path fill=\"none\" stroke=\"black\" d=\"M1301.88,-229.55C1301.88,-219.08 1301.88,-207.83 1301.88,-197.21\"/>\n",
       "<polygon fill=\"black\" stroke=\"black\" points=\"1305.38,-197.52 1301.88,-187.52 1298.38,-197.52 1305.38,-197.52\"/>\n",
       "</g>\n",
       "<!-- 28 -->\n",
       "<g id=\"node29\" class=\"node\">\n",
       "<title>28</title>\n",
       "<path fill=\"#46a4e7\" stroke=\"black\" d=\"M1492.38,-193.75C1492.38,-193.75 1401.38,-193.75 1401.38,-193.75 1395.38,-193.75 1389.38,-187.75 1389.38,-181.75 1389.38,-181.75 1389.38,-119 1389.38,-119 1389.38,-113 1395.38,-107 1401.38,-107 1401.38,-107 1492.38,-107 1492.38,-107 1498.38,-107 1504.38,-113 1504.38,-119 1504.38,-119 1504.38,-181.75 1504.38,-181.75 1504.38,-187.75 1498.38,-193.75 1492.38,-193.75\"/>\n",
       "<text text-anchor=\"start\" x=\"1414.25\" y=\"-176.45\" font-family=\"Helvetica,sans-Serif\" font-size=\"14.00\">Age ≤ 23.5</text>\n",
       "<text text-anchor=\"start\" x=\"1399.62\" y=\"-160.7\" font-family=\"Helvetica,sans-Serif\" font-size=\"14.00\">entropy = 0.342</text>\n",
       "<text text-anchor=\"start\" x=\"1406\" y=\"-144.95\" font-family=\"Helvetica,sans-Serif\" font-size=\"14.00\">samples = 47</text>\n",
       "<text text-anchor=\"start\" x=\"1404.12\" y=\"-129.2\" font-family=\"Helvetica,sans-Serif\" font-size=\"14.00\">value = [3, 44]</text>\n",
       "<text text-anchor=\"start\" x=\"1397.38\" y=\"-113.45\" font-family=\"Helvetica,sans-Serif\" font-size=\"14.00\">class = Survived</text>\n",
       "</g>\n",
       "<!-- 27&#45;&gt;28 -->\n",
       "<g id=\"edge28\" class=\"edge\">\n",
       "<title>27&#45;&gt;28</title>\n",
       "<path fill=\"none\" stroke=\"black\" d=\"M1446.88,-229.55C1446.88,-221.71 1446.88,-213.42 1446.88,-205.29\"/>\n",
       "<polygon fill=\"black\" stroke=\"black\" points=\"1450.38,-205.48 1446.88,-195.48 1443.38,-205.48 1450.38,-205.48\"/>\n",
       "</g>\n",
       "<!-- 31 -->\n",
       "<g id=\"node32\" class=\"node\">\n",
       "<title>31</title>\n",
       "<path fill=\"#3b9ee5\" stroke=\"black\" d=\"M1625.38,-193.75C1625.38,-193.75 1534.38,-193.75 1534.38,-193.75 1528.38,-193.75 1522.38,-187.75 1522.38,-181.75 1522.38,-181.75 1522.38,-119 1522.38,-119 1522.38,-113 1528.38,-107 1534.38,-107 1534.38,-107 1625.38,-107 1625.38,-107 1631.38,-107 1637.38,-113 1637.38,-119 1637.38,-119 1637.38,-181.75 1637.38,-181.75 1637.38,-187.75 1631.38,-193.75 1625.38,-193.75\"/>\n",
       "<text text-anchor=\"start\" x=\"1547.25\" y=\"-176.45\" font-family=\"Helvetica,sans-Serif\" font-size=\"14.00\">Age ≤ 49.5</text>\n",
       "<text text-anchor=\"start\" x=\"1532.62\" y=\"-160.7\" font-family=\"Helvetica,sans-Serif\" font-size=\"14.00\">entropy = 0.096</text>\n",
       "<text text-anchor=\"start\" x=\"1539\" y=\"-144.95\" font-family=\"Helvetica,sans-Serif\" font-size=\"14.00\">samples = 81</text>\n",
       "<text text-anchor=\"start\" x=\"1537.12\" y=\"-129.2\" font-family=\"Helvetica,sans-Serif\" font-size=\"14.00\">value = [1, 80]</text>\n",
       "<text text-anchor=\"start\" x=\"1530.38\" y=\"-113.45\" font-family=\"Helvetica,sans-Serif\" font-size=\"14.00\">class = Survived</text>\n",
       "</g>\n",
       "<!-- 27&#45;&gt;31 -->\n",
       "<g id=\"edge31\" class=\"edge\">\n",
       "<title>27&#45;&gt;31</title>\n",
       "<path fill=\"none\" stroke=\"black\" d=\"M1493.77,-229.55C1503.7,-220.54 1514.27,-210.94 1524.49,-201.66\"/>\n",
       "<polygon fill=\"black\" stroke=\"black\" points=\"1526.79,-204.3 1531.84,-194.99 1522.08,-199.12 1526.79,-204.3\"/>\n",
       "</g>\n",
       "<!-- 29 -->\n",
       "<g id=\"node30\" class=\"node\">\n",
       "<title>29</title>\n",
       "<path fill=\"#399de5\" stroke=\"black\" d=\"M1359.38,-71C1359.38,-71 1268.38,-71 1268.38,-71 1262.38,-71 1256.38,-65 1256.38,-59 1256.38,-59 1256.38,-12 1256.38,-12 1256.38,-6 1262.38,0 1268.38,0 1268.38,0 1359.38,0 1359.38,0 1365.38,0 1371.38,-6 1371.38,-12 1371.38,-12 1371.38,-59 1371.38,-59 1371.38,-65 1365.38,-71 1359.38,-71\"/>\n",
       "<text text-anchor=\"start\" x=\"1274.12\" y=\"-53.7\" font-family=\"Helvetica,sans-Serif\" font-size=\"14.00\">entropy = 0.0</text>\n",
       "<text text-anchor=\"start\" x=\"1273\" y=\"-37.95\" font-family=\"Helvetica,sans-Serif\" font-size=\"14.00\">samples = 29</text>\n",
       "<text text-anchor=\"start\" x=\"1271.12\" y=\"-22.2\" font-family=\"Helvetica,sans-Serif\" font-size=\"14.00\">value = [0, 29]</text>\n",
       "<text text-anchor=\"start\" x=\"1264.38\" y=\"-6.45\" font-family=\"Helvetica,sans-Serif\" font-size=\"14.00\">class = Survived</text>\n",
       "</g>\n",
       "<!-- 28&#45;&gt;29 -->\n",
       "<g id=\"edge29\" class=\"edge\">\n",
       "<title>28&#45;&gt;29</title>\n",
       "<path fill=\"none\" stroke=\"black\" d=\"M1396.59,-106.7C1385.68,-97.44 1374.15,-87.65 1363.27,-78.42\"/>\n",
       "<polygon fill=\"black\" stroke=\"black\" points=\"1365.75,-75.94 1355.87,-72.14 1361.23,-81.28 1365.75,-75.94\"/>\n",
       "</g>\n",
       "<!-- 30 -->\n",
       "<g id=\"node31\" class=\"node\">\n",
       "<title>30</title>\n",
       "<path fill=\"#61b1ea\" stroke=\"black\" d=\"M1492.38,-71C1492.38,-71 1401.38,-71 1401.38,-71 1395.38,-71 1389.38,-65 1389.38,-59 1389.38,-59 1389.38,-12 1389.38,-12 1389.38,-6 1395.38,0 1401.38,0 1401.38,0 1492.38,0 1492.38,0 1498.38,0 1504.38,-6 1504.38,-12 1504.38,-12 1504.38,-59 1504.38,-59 1504.38,-65 1498.38,-71 1492.38,-71\"/>\n",
       "<text text-anchor=\"start\" x=\"1403.38\" y=\"-53.7\" font-family=\"Helvetica,sans-Serif\" font-size=\"14.00\">entropy = 0.65</text>\n",
       "<text text-anchor=\"start\" x=\"1406\" y=\"-37.95\" font-family=\"Helvetica,sans-Serif\" font-size=\"14.00\">samples = 18</text>\n",
       "<text text-anchor=\"start\" x=\"1404.12\" y=\"-22.2\" font-family=\"Helvetica,sans-Serif\" font-size=\"14.00\">value = [3, 15]</text>\n",
       "<text text-anchor=\"start\" x=\"1397.38\" y=\"-6.45\" font-family=\"Helvetica,sans-Serif\" font-size=\"14.00\">class = Survived</text>\n",
       "</g>\n",
       "<!-- 28&#45;&gt;30 -->\n",
       "<g id=\"edge30\" class=\"edge\">\n",
       "<title>28&#45;&gt;30</title>\n",
       "<path fill=\"none\" stroke=\"black\" d=\"M1446.88,-106.7C1446.88,-98.82 1446.88,-90.55 1446.88,-82.57\"/>\n",
       "<polygon fill=\"black\" stroke=\"black\" points=\"1450.38,-82.67 1446.88,-72.67 1443.38,-82.67 1450.38,-82.67\"/>\n",
       "</g>\n",
       "<!-- 32 -->\n",
       "<g id=\"node33\" class=\"node\">\n",
       "<title>32</title>\n",
       "<path fill=\"#399de5\" stroke=\"black\" d=\"M1625.38,-71C1625.38,-71 1534.38,-71 1534.38,-71 1528.38,-71 1522.38,-65 1522.38,-59 1522.38,-59 1522.38,-12 1522.38,-12 1522.38,-6 1528.38,0 1534.38,0 1534.38,0 1625.38,0 1625.38,0 1631.38,0 1637.38,-6 1637.38,-12 1637.38,-12 1637.38,-59 1637.38,-59 1637.38,-65 1631.38,-71 1625.38,-71\"/>\n",
       "<text text-anchor=\"start\" x=\"1540.12\" y=\"-53.7\" font-family=\"Helvetica,sans-Serif\" font-size=\"14.00\">entropy = 0.0</text>\n",
       "<text text-anchor=\"start\" x=\"1539\" y=\"-37.95\" font-family=\"Helvetica,sans-Serif\" font-size=\"14.00\">samples = 65</text>\n",
       "<text text-anchor=\"start\" x=\"1537.12\" y=\"-22.2\" font-family=\"Helvetica,sans-Serif\" font-size=\"14.00\">value = [0, 65]</text>\n",
       "<text text-anchor=\"start\" x=\"1530.38\" y=\"-6.45\" font-family=\"Helvetica,sans-Serif\" font-size=\"14.00\">class = Survived</text>\n",
       "</g>\n",
       "<!-- 31&#45;&gt;32 -->\n",
       "<g id=\"edge32\" class=\"edge\">\n",
       "<title>31&#45;&gt;32</title>\n",
       "<path fill=\"none\" stroke=\"black\" d=\"M1579.88,-106.7C1579.88,-98.82 1579.88,-90.55 1579.88,-82.57\"/>\n",
       "<polygon fill=\"black\" stroke=\"black\" points=\"1583.38,-82.67 1579.88,-72.67 1576.38,-82.67 1583.38,-82.67\"/>\n",
       "</g>\n",
       "<!-- 33 -->\n",
       "<g id=\"node34\" class=\"node\">\n",
       "<title>33</title>\n",
       "<path fill=\"#46a4e7\" stroke=\"black\" d=\"M1758.38,-71C1758.38,-71 1667.38,-71 1667.38,-71 1661.38,-71 1655.38,-65 1655.38,-59 1655.38,-59 1655.38,-12 1655.38,-12 1655.38,-6 1661.38,0 1667.38,0 1667.38,0 1758.38,0 1758.38,0 1764.38,0 1770.38,-6 1770.38,-12 1770.38,-12 1770.38,-59 1770.38,-59 1770.38,-65 1764.38,-71 1758.38,-71\"/>\n",
       "<text text-anchor=\"start\" x=\"1665.62\" y=\"-53.7\" font-family=\"Helvetica,sans-Serif\" font-size=\"14.00\">entropy = 0.337</text>\n",
       "<text text-anchor=\"start\" x=\"1672\" y=\"-37.95\" font-family=\"Helvetica,sans-Serif\" font-size=\"14.00\">samples = 16</text>\n",
       "<text text-anchor=\"start\" x=\"1670.12\" y=\"-22.2\" font-family=\"Helvetica,sans-Serif\" font-size=\"14.00\">value = [1, 15]</text>\n",
       "<text text-anchor=\"start\" x=\"1663.38\" y=\"-6.45\" font-family=\"Helvetica,sans-Serif\" font-size=\"14.00\">class = Survived</text>\n",
       "</g>\n",
       "<!-- 31&#45;&gt;33 -->\n",
       "<g id=\"edge33\" class=\"edge\">\n",
       "<title>31&#45;&gt;33</title>\n",
       "<path fill=\"none\" stroke=\"black\" d=\"M1630.16,-106.7C1641.07,-97.44 1652.6,-87.65 1663.48,-78.42\"/>\n",
       "<polygon fill=\"black\" stroke=\"black\" points=\"1665.52,-81.28 1670.88,-72.14 1661,-75.94 1665.52,-81.28\"/>\n",
       "</g>\n",
       "<!-- 35 -->\n",
       "<g id=\"node36\" class=\"node\">\n",
       "<title>35</title>\n",
       "<path fill=\"#c5e2f7\" stroke=\"black\" d=\"M2097.12,-316.5C2097.12,-316.5 1992.62,-316.5 1992.62,-316.5 1986.62,-316.5 1980.62,-310.5 1980.62,-304.5 1980.62,-304.5 1980.62,-241.75 1980.62,-241.75 1980.62,-235.75 1986.62,-229.75 1992.62,-229.75 1992.62,-229.75 2097.12,-229.75 2097.12,-229.75 2103.12,-229.75 2109.12,-235.75 2109.12,-241.75 2109.12,-241.75 2109.12,-304.5 2109.12,-304.5 2109.12,-310.5 2103.12,-316.5 2097.12,-316.5\"/>\n",
       "<text text-anchor=\"start\" x=\"1988.62\" y=\"-299.2\" font-family=\"Helvetica,sans-Serif\" font-size=\"14.00\">Embarked_S ≤ 0.5</text>\n",
       "<text text-anchor=\"start\" x=\"1997.62\" y=\"-283.45\" font-family=\"Helvetica,sans-Serif\" font-size=\"14.00\">entropy = 0.979</text>\n",
       "<text text-anchor=\"start\" x=\"2004\" y=\"-267.7\" font-family=\"Helvetica,sans-Serif\" font-size=\"14.00\">samples = 94</text>\n",
       "<text text-anchor=\"start\" x=\"1998.38\" y=\"-251.95\" font-family=\"Helvetica,sans-Serif\" font-size=\"14.00\">value = [39, 55]</text>\n",
       "<text text-anchor=\"start\" x=\"1995.38\" y=\"-236.2\" font-family=\"Helvetica,sans-Serif\" font-size=\"14.00\">class = Survived</text>\n",
       "</g>\n",
       "<!-- 34&#45;&gt;35 -->\n",
       "<g id=\"edge35\" class=\"edge\">\n",
       "<title>34&#45;&gt;35</title>\n",
       "<path fill=\"none\" stroke=\"black\" d=\"M2044.88,-352.3C2044.88,-344.46 2044.88,-336.17 2044.88,-328.04\"/>\n",
       "<polygon fill=\"black\" stroke=\"black\" points=\"2048.38,-328.23 2044.88,-318.23 2041.38,-328.23 2048.38,-328.23\"/>\n",
       "</g>\n",
       "<!-- 42 -->\n",
       "<g id=\"node43\" class=\"node\">\n",
       "<title>42</title>\n",
       "<path fill=\"#e68743\" stroke=\"black\" d=\"M2472.75,-316.5C2472.75,-316.5 2357,-316.5 2357,-316.5 2351,-316.5 2345,-310.5 2345,-304.5 2345,-304.5 2345,-241.75 2345,-241.75 2345,-235.75 2351,-229.75 2357,-229.75 2357,-229.75 2472.75,-229.75 2472.75,-229.75 2478.75,-229.75 2484.75,-235.75 2484.75,-241.75 2484.75,-241.75 2484.75,-304.5 2484.75,-304.5 2484.75,-310.5 2478.75,-316.5 2472.75,-316.5\"/>\n",
       "<text text-anchor=\"start\" x=\"2386\" y=\"-299.2\" font-family=\"Helvetica,sans-Serif\" font-size=\"14.00\">Age ≤ 5.5</text>\n",
       "<text text-anchor=\"start\" x=\"2367.62\" y=\"-283.45\" font-family=\"Helvetica,sans-Serif\" font-size=\"14.00\">entropy = 0.276</text>\n",
       "<text text-anchor=\"start\" x=\"2374\" y=\"-267.7\" font-family=\"Helvetica,sans-Serif\" font-size=\"14.00\">samples = 21</text>\n",
       "<text text-anchor=\"start\" x=\"2372.12\" y=\"-251.95\" font-family=\"Helvetica,sans-Serif\" font-size=\"14.00\">value = [20, 1]</text>\n",
       "<text text-anchor=\"start\" x=\"2353\" y=\"-236.2\" font-family=\"Helvetica,sans-Serif\" font-size=\"14.00\">class = Not Survived</text>\n",
       "</g>\n",
       "<!-- 34&#45;&gt;42 -->\n",
       "<g id=\"edge42\" class=\"edge\">\n",
       "<title>34&#45;&gt;42</title>\n",
       "<path fill=\"none\" stroke=\"black\" d=\"M2114.9,-372.02C2177.22,-351.68 2268.37,-321.94 2333.82,-300.58\"/>\n",
       "<polygon fill=\"black\" stroke=\"black\" points=\"2334.64,-303.99 2343.06,-297.56 2332.47,-297.34 2334.64,-303.99\"/>\n",
       "</g>\n",
       "<!-- 36 -->\n",
       "<g id=\"node37\" class=\"node\">\n",
       "<title>36</title>\n",
       "<path fill=\"#87c4ef\" stroke=\"black\" d=\"M2018.38,-193.75C2018.38,-193.75 1927.38,-193.75 1927.38,-193.75 1921.38,-193.75 1915.38,-187.75 1915.38,-181.75 1915.38,-181.75 1915.38,-119 1915.38,-119 1915.38,-113 1921.38,-107 1927.38,-107 1927.38,-107 2018.38,-107 2018.38,-107 2024.38,-107 2030.38,-113 2030.38,-119 2030.38,-119 2030.38,-181.75 2030.38,-181.75 2030.38,-187.75 2024.38,-193.75 2018.38,-193.75\"/>\n",
       "<text text-anchor=\"start\" x=\"1930.88\" y=\"-176.45\" font-family=\"Helvetica,sans-Serif\" font-size=\"14.00\">Fare ≤ 15.373</text>\n",
       "<text text-anchor=\"start\" x=\"1925.62\" y=\"-160.7\" font-family=\"Helvetica,sans-Serif\" font-size=\"14.00\">entropy = 0.858</text>\n",
       "<text text-anchor=\"start\" x=\"1932\" y=\"-144.95\" font-family=\"Helvetica,sans-Serif\" font-size=\"14.00\">samples = 39</text>\n",
       "<text text-anchor=\"start\" x=\"1926.75\" y=\"-129.2\" font-family=\"Helvetica,sans-Serif\" font-size=\"14.00\">value = [11, 28]</text>\n",
       "<text text-anchor=\"start\" x=\"1923.38\" y=\"-113.45\" font-family=\"Helvetica,sans-Serif\" font-size=\"14.00\">class = Survived</text>\n",
       "</g>\n",
       "<!-- 35&#45;&gt;36 -->\n",
       "<g id=\"edge36\" class=\"edge\">\n",
       "<title>35&#45;&gt;36</title>\n",
       "<path fill=\"none\" stroke=\"black\" d=\"M2019.49,-229.55C2014.49,-221.17 2009.19,-212.28 2004.02,-203.61\"/>\n",
       "<polygon fill=\"black\" stroke=\"black\" points=\"2007.18,-202.07 1999.05,-195.27 2001.16,-205.65 2007.18,-202.07\"/>\n",
       "</g>\n",
       "<!-- 39 -->\n",
       "<g id=\"node40\" class=\"node\">\n",
       "<title>39</title>\n",
       "<path fill=\"#fefaf8\" stroke=\"black\" d=\"M2175.75,-193.75C2175.75,-193.75 2060,-193.75 2060,-193.75 2054,-193.75 2048,-187.75 2048,-181.75 2048,-181.75 2048,-119 2048,-119 2048,-113 2054,-107 2060,-107 2060,-107 2175.75,-107 2175.75,-107 2181.75,-107 2187.75,-113 2187.75,-119 2187.75,-119 2187.75,-181.75 2187.75,-181.75 2187.75,-187.75 2181.75,-193.75 2175.75,-193.75\"/>\n",
       "<text text-anchor=\"start\" x=\"2087.12\" y=\"-176.45\" font-family=\"Helvetica,sans-Serif\" font-size=\"14.00\">Fare ≤ 7.7</text>\n",
       "<text text-anchor=\"start\" x=\"2078.12\" y=\"-160.7\" font-family=\"Helvetica,sans-Serif\" font-size=\"14.00\">entropy = 1.0</text>\n",
       "<text text-anchor=\"start\" x=\"2077\" y=\"-144.95\" font-family=\"Helvetica,sans-Serif\" font-size=\"14.00\">samples = 55</text>\n",
       "<text text-anchor=\"start\" x=\"2071.38\" y=\"-129.2\" font-family=\"Helvetica,sans-Serif\" font-size=\"14.00\">value = [28, 27]</text>\n",
       "<text text-anchor=\"start\" x=\"2056\" y=\"-113.45\" font-family=\"Helvetica,sans-Serif\" font-size=\"14.00\">class = Not Survived</text>\n",
       "</g>\n",
       "<!-- 35&#45;&gt;39 -->\n",
       "<g id=\"edge39\" class=\"edge\">\n",
       "<title>35&#45;&gt;39</title>\n",
       "<path fill=\"none\" stroke=\"black\" d=\"M2070.61,-229.55C2075.68,-221.17 2081.06,-212.28 2086.29,-203.61\"/>\n",
       "<polygon fill=\"black\" stroke=\"black\" points=\"2089.16,-205.63 2091.34,-195.26 2083.17,-202.01 2089.16,-205.63\"/>\n",
       "</g>\n",
       "<!-- 37 -->\n",
       "<g id=\"node38\" class=\"node\">\n",
       "<title>37</title>\n",
       "<path fill=\"#b2d9f5\" stroke=\"black\" d=\"M1891.38,-71C1891.38,-71 1800.38,-71 1800.38,-71 1794.38,-71 1788.38,-65 1788.38,-59 1788.38,-59 1788.38,-12 1788.38,-12 1788.38,-6 1794.38,0 1800.38,0 1800.38,0 1891.38,0 1891.38,0 1897.38,0 1903.38,-6 1903.38,-12 1903.38,-12 1903.38,-59 1903.38,-59 1903.38,-65 1897.38,-71 1891.38,-71\"/>\n",
       "<text text-anchor=\"start\" x=\"1798.62\" y=\"-53.7\" font-family=\"Helvetica,sans-Serif\" font-size=\"14.00\">entropy = 0.958</text>\n",
       "<text text-anchor=\"start\" x=\"1805\" y=\"-37.95\" font-family=\"Helvetica,sans-Serif\" font-size=\"14.00\">samples = 29</text>\n",
       "<text text-anchor=\"start\" x=\"1799.75\" y=\"-22.2\" font-family=\"Helvetica,sans-Serif\" font-size=\"14.00\">value = [11, 18]</text>\n",
       "<text text-anchor=\"start\" x=\"1796.38\" y=\"-6.45\" font-family=\"Helvetica,sans-Serif\" font-size=\"14.00\">class = Survived</text>\n",
       "</g>\n",
       "<!-- 36&#45;&gt;37 -->\n",
       "<g id=\"edge37\" class=\"edge\">\n",
       "<title>36&#45;&gt;37</title>\n",
       "<path fill=\"none\" stroke=\"black\" d=\"M1924.86,-106.7C1914.54,-97.53 1903.65,-87.85 1893.35,-78.7\"/>\n",
       "<polygon fill=\"black\" stroke=\"black\" points=\"1895.8,-76.19 1886,-72.16 1891.15,-81.42 1895.8,-76.19\"/>\n",
       "</g>\n",
       "<!-- 38 -->\n",
       "<g id=\"node39\" class=\"node\">\n",
       "<title>38</title>\n",
       "<path fill=\"#399de5\" stroke=\"black\" d=\"M2024.38,-71C2024.38,-71 1933.38,-71 1933.38,-71 1927.38,-71 1921.38,-65 1921.38,-59 1921.38,-59 1921.38,-12 1921.38,-12 1921.38,-6 1927.38,0 1933.38,0 1933.38,0 2024.38,0 2024.38,0 2030.38,0 2036.38,-6 2036.38,-12 2036.38,-12 2036.38,-59 2036.38,-59 2036.38,-65 2030.38,-71 2024.38,-71\"/>\n",
       "<text text-anchor=\"start\" x=\"1939.12\" y=\"-53.7\" font-family=\"Helvetica,sans-Serif\" font-size=\"14.00\">entropy = 0.0</text>\n",
       "<text text-anchor=\"start\" x=\"1938\" y=\"-37.95\" font-family=\"Helvetica,sans-Serif\" font-size=\"14.00\">samples = 10</text>\n",
       "<text text-anchor=\"start\" x=\"1936.12\" y=\"-22.2\" font-family=\"Helvetica,sans-Serif\" font-size=\"14.00\">value = [0, 10]</text>\n",
       "<text text-anchor=\"start\" x=\"1929.38\" y=\"-6.45\" font-family=\"Helvetica,sans-Serif\" font-size=\"14.00\">class = Survived</text>\n",
       "</g>\n",
       "<!-- 36&#45;&gt;38 -->\n",
       "<g id=\"edge38\" class=\"edge\">\n",
       "<title>36&#45;&gt;38</title>\n",
       "<path fill=\"none\" stroke=\"black\" d=\"M1975.14,-106.7C1975.56,-98.82 1976,-90.55 1976.43,-82.57\"/>\n",
       "<polygon fill=\"black\" stroke=\"black\" points=\"1979.92,-82.84 1976.95,-72.67 1972.93,-82.47 1979.92,-82.84\"/>\n",
       "</g>\n",
       "<!-- 40 -->\n",
       "<g id=\"node41\" class=\"node\">\n",
       "<title>40</title>\n",
       "<path fill=\"#399de5\" stroke=\"black\" d=\"M2157.38,-71C2157.38,-71 2066.38,-71 2066.38,-71 2060.38,-71 2054.38,-65 2054.38,-59 2054.38,-59 2054.38,-12 2054.38,-12 2054.38,-6 2060.38,0 2066.38,0 2066.38,0 2157.38,0 2157.38,0 2163.38,0 2169.38,-6 2169.38,-12 2169.38,-12 2169.38,-59 2169.38,-59 2169.38,-65 2163.38,-71 2157.38,-71\"/>\n",
       "<text text-anchor=\"start\" x=\"2072.12\" y=\"-53.7\" font-family=\"Helvetica,sans-Serif\" font-size=\"14.00\">entropy = 0.0</text>\n",
       "<text text-anchor=\"start\" x=\"2074.75\" y=\"-37.95\" font-family=\"Helvetica,sans-Serif\" font-size=\"14.00\">samples = 4</text>\n",
       "<text text-anchor=\"start\" x=\"2072.88\" y=\"-22.2\" font-family=\"Helvetica,sans-Serif\" font-size=\"14.00\">value = [0, 4]</text>\n",
       "<text text-anchor=\"start\" x=\"2062.38\" y=\"-6.45\" font-family=\"Helvetica,sans-Serif\" font-size=\"14.00\">class = Survived</text>\n",
       "</g>\n",
       "<!-- 39&#45;&gt;40 -->\n",
       "<g id=\"edge40\" class=\"edge\">\n",
       "<title>39&#45;&gt;40</title>\n",
       "<path fill=\"none\" stroke=\"black\" d=\"M2115.61,-106.7C2115.19,-98.82 2114.75,-90.55 2114.32,-82.57\"/>\n",
       "<polygon fill=\"black\" stroke=\"black\" points=\"2117.82,-82.47 2113.8,-72.67 2110.83,-82.84 2117.82,-82.47\"/>\n",
       "</g>\n",
       "<!-- 41 -->\n",
       "<g id=\"node42\" class=\"node\">\n",
       "<title>41</title>\n",
       "<path fill=\"#fae8dc\" stroke=\"black\" d=\"M2314.75,-71C2314.75,-71 2199,-71 2199,-71 2193,-71 2187,-65 2187,-59 2187,-59 2187,-12 2187,-12 2187,-6 2193,0 2199,0 2199,0 2314.75,0 2314.75,0 2320.75,0 2326.75,-6 2326.75,-12 2326.75,-12 2326.75,-59 2326.75,-59 2326.75,-65 2320.75,-71 2314.75,-71\"/>\n",
       "<text text-anchor=\"start\" x=\"2209.62\" y=\"-53.7\" font-family=\"Helvetica,sans-Serif\" font-size=\"14.00\">entropy = 0.993</text>\n",
       "<text text-anchor=\"start\" x=\"2216\" y=\"-37.95\" font-family=\"Helvetica,sans-Serif\" font-size=\"14.00\">samples = 51</text>\n",
       "<text text-anchor=\"start\" x=\"2210.38\" y=\"-22.2\" font-family=\"Helvetica,sans-Serif\" font-size=\"14.00\">value = [28, 23]</text>\n",
       "<text text-anchor=\"start\" x=\"2195\" y=\"-6.45\" font-family=\"Helvetica,sans-Serif\" font-size=\"14.00\">class = Not Survived</text>\n",
       "</g>\n",
       "<!-- 39&#45;&gt;41 -->\n",
       "<g id=\"edge41\" class=\"edge\">\n",
       "<title>39&#45;&gt;41</title>\n",
       "<path fill=\"none\" stroke=\"black\" d=\"M2170.42,-106.7C2181.94,-97.35 2194.12,-87.46 2205.59,-78.15\"/>\n",
       "<polygon fill=\"black\" stroke=\"black\" points=\"2207.46,-81.13 2213.02,-72.11 2203.05,-75.7 2207.46,-81.13\"/>\n",
       "</g>\n",
       "<!-- 43 -->\n",
       "<g id=\"node44\" class=\"node\">\n",
       "<title>43</title>\n",
       "<path fill=\"#f2c09c\" stroke=\"black\" d=\"M2472.75,-193.75C2472.75,-193.75 2357,-193.75 2357,-193.75 2351,-193.75 2345,-187.75 2345,-181.75 2345,-181.75 2345,-119 2345,-119 2345,-113 2351,-107 2357,-107 2357,-107 2472.75,-107 2472.75,-107 2478.75,-107 2484.75,-113 2484.75,-119 2484.75,-119 2484.75,-181.75 2484.75,-181.75 2484.75,-187.75 2478.75,-193.75 2472.75,-193.75\"/>\n",
       "<text text-anchor=\"start\" x=\"2372.88\" y=\"-176.45\" font-family=\"Helvetica,sans-Serif\" font-size=\"14.00\">Fare ≤ 31.331</text>\n",
       "<text text-anchor=\"start\" x=\"2367.62\" y=\"-160.7\" font-family=\"Helvetica,sans-Serif\" font-size=\"14.00\">entropy = 0.918</text>\n",
       "<text text-anchor=\"start\" x=\"2377.75\" y=\"-144.95\" font-family=\"Helvetica,sans-Serif\" font-size=\"14.00\">samples = 3</text>\n",
       "<text text-anchor=\"start\" x=\"2375.88\" y=\"-129.2\" font-family=\"Helvetica,sans-Serif\" font-size=\"14.00\">value = [2, 1]</text>\n",
       "<text text-anchor=\"start\" x=\"2353\" y=\"-113.45\" font-family=\"Helvetica,sans-Serif\" font-size=\"14.00\">class = Not Survived</text>\n",
       "</g>\n",
       "<!-- 42&#45;&gt;43 -->\n",
       "<g id=\"edge43\" class=\"edge\">\n",
       "<title>42&#45;&gt;43</title>\n",
       "<path fill=\"none\" stroke=\"black\" d=\"M2414.88,-229.55C2414.88,-221.71 2414.88,-213.42 2414.88,-205.29\"/>\n",
       "<polygon fill=\"black\" stroke=\"black\" points=\"2418.38,-205.48 2414.88,-195.48 2411.38,-205.48 2418.38,-205.48\"/>\n",
       "</g>\n",
       "<!-- 46 -->\n",
       "<g id=\"node47\" class=\"node\">\n",
       "<title>46</title>\n",
       "<path fill=\"#e58139\" stroke=\"black\" d=\"M2630.75,-185.88C2630.75,-185.88 2515,-185.88 2515,-185.88 2509,-185.88 2503,-179.88 2503,-173.88 2503,-173.88 2503,-126.88 2503,-126.88 2503,-120.88 2509,-114.88 2515,-114.88 2515,-114.88 2630.75,-114.88 2630.75,-114.88 2636.75,-114.88 2642.75,-120.88 2642.75,-126.88 2642.75,-126.88 2642.75,-173.88 2642.75,-173.88 2642.75,-179.88 2636.75,-185.88 2630.75,-185.88\"/>\n",
       "<text text-anchor=\"start\" x=\"2533.12\" y=\"-168.57\" font-family=\"Helvetica,sans-Serif\" font-size=\"14.00\">entropy = 0.0</text>\n",
       "<text text-anchor=\"start\" x=\"2532\" y=\"-152.82\" font-family=\"Helvetica,sans-Serif\" font-size=\"14.00\">samples = 18</text>\n",
       "<text text-anchor=\"start\" x=\"2530.12\" y=\"-137.07\" font-family=\"Helvetica,sans-Serif\" font-size=\"14.00\">value = [18, 0]</text>\n",
       "<text text-anchor=\"start\" x=\"2511\" y=\"-121.33\" font-family=\"Helvetica,sans-Serif\" font-size=\"14.00\">class = Not Survived</text>\n",
       "</g>\n",
       "<!-- 42&#45;&gt;46 -->\n",
       "<g id=\"edge46\" class=\"edge\">\n",
       "<title>42&#45;&gt;46</title>\n",
       "<path fill=\"none\" stroke=\"black\" d=\"M2470.58,-229.55C2486.1,-217.69 2502.94,-204.82 2518.39,-193.01\"/>\n",
       "<polygon fill=\"black\" stroke=\"black\" points=\"2520.29,-195.97 2526.11,-187.12 2516.04,-190.41 2520.29,-195.97\"/>\n",
       "</g>\n",
       "<!-- 44 -->\n",
       "<g id=\"node45\" class=\"node\">\n",
       "<title>44</title>\n",
       "<path fill=\"#e58139\" stroke=\"black\" d=\"M2472.75,-71C2472.75,-71 2357,-71 2357,-71 2351,-71 2345,-65 2345,-59 2345,-59 2345,-12 2345,-12 2345,-6 2351,0 2357,0 2357,0 2472.75,0 2472.75,0 2478.75,0 2484.75,-6 2484.75,-12 2484.75,-12 2484.75,-59 2484.75,-59 2484.75,-65 2478.75,-71 2472.75,-71\"/>\n",
       "<text text-anchor=\"start\" x=\"2375.12\" y=\"-53.7\" font-family=\"Helvetica,sans-Serif\" font-size=\"14.00\">entropy = 0.0</text>\n",
       "<text text-anchor=\"start\" x=\"2377.75\" y=\"-37.95\" font-family=\"Helvetica,sans-Serif\" font-size=\"14.00\">samples = 2</text>\n",
       "<text text-anchor=\"start\" x=\"2375.88\" y=\"-22.2\" font-family=\"Helvetica,sans-Serif\" font-size=\"14.00\">value = [2, 0]</text>\n",
       "<text text-anchor=\"start\" x=\"2353\" y=\"-6.45\" font-family=\"Helvetica,sans-Serif\" font-size=\"14.00\">class = Not Survived</text>\n",
       "</g>\n",
       "<!-- 43&#45;&gt;44 -->\n",
       "<g id=\"edge44\" class=\"edge\">\n",
       "<title>43&#45;&gt;44</title>\n",
       "<path fill=\"none\" stroke=\"black\" d=\"M2414.88,-106.7C2414.88,-98.82 2414.88,-90.55 2414.88,-82.57\"/>\n",
       "<polygon fill=\"black\" stroke=\"black\" points=\"2418.38,-82.67 2414.88,-72.67 2411.38,-82.67 2418.38,-82.67\"/>\n",
       "</g>\n",
       "<!-- 45 -->\n",
       "<g id=\"node46\" class=\"node\">\n",
       "<title>45</title>\n",
       "<path fill=\"#399de5\" stroke=\"black\" d=\"M2605.38,-71C2605.38,-71 2514.38,-71 2514.38,-71 2508.38,-71 2502.38,-65 2502.38,-59 2502.38,-59 2502.38,-12 2502.38,-12 2502.38,-6 2508.38,0 2514.38,0 2514.38,0 2605.38,0 2605.38,0 2611.38,0 2617.38,-6 2617.38,-12 2617.38,-12 2617.38,-59 2617.38,-59 2617.38,-65 2611.38,-71 2605.38,-71\"/>\n",
       "<text text-anchor=\"start\" x=\"2520.12\" y=\"-53.7\" font-family=\"Helvetica,sans-Serif\" font-size=\"14.00\">entropy = 0.0</text>\n",
       "<text text-anchor=\"start\" x=\"2522.75\" y=\"-37.95\" font-family=\"Helvetica,sans-Serif\" font-size=\"14.00\">samples = 1</text>\n",
       "<text text-anchor=\"start\" x=\"2520.88\" y=\"-22.2\" font-family=\"Helvetica,sans-Serif\" font-size=\"14.00\">value = [0, 1]</text>\n",
       "<text text-anchor=\"start\" x=\"2510.38\" y=\"-6.45\" font-family=\"Helvetica,sans-Serif\" font-size=\"14.00\">class = Survived</text>\n",
       "</g>\n",
       "<!-- 43&#45;&gt;45 -->\n",
       "<g id=\"edge45\" class=\"edge\">\n",
       "<title>43&#45;&gt;45</title>\n",
       "<path fill=\"none\" stroke=\"black\" d=\"M2469.69,-106.7C2481.71,-97.35 2494.41,-87.46 2506.37,-78.15\"/>\n",
       "<polygon fill=\"black\" stroke=\"black\" points=\"2508.42,-80.99 2514.16,-72.09 2504.12,-75.47 2508.42,-80.99\"/>\n",
       "</g>\n",
       "</g>\n",
       "</svg>\n"
      ],
      "text/plain": [
       "<graphviz.sources.Source at 0x27013db1f28>"
      ]
     },
     "execution_count": 27,
     "metadata": {},
     "output_type": "execute_result"
    }
   ],
   "source": [
    "# graph.render(\"decision_tree\") \n",
    "graph"
   ]
  },
  {
   "cell_type": "code",
   "execution_count": 28,
   "id": "599e7472-69ef-4f7e-bbac-eba06e927a0a",
   "metadata": {
    "tags": []
   },
   "outputs": [
    {
     "data": {
      "text/html": [
       "<div>\n",
       "<style scoped>\n",
       "    .dataframe tbody tr th:only-of-type {\n",
       "        vertical-align: middle;\n",
       "    }\n",
       "\n",
       "    .dataframe tbody tr th {\n",
       "        vertical-align: top;\n",
       "    }\n",
       "\n",
       "    .dataframe thead th {\n",
       "        text-align: right;\n",
       "    }\n",
       "</style>\n",
       "<table border=\"1\" class=\"dataframe\">\n",
       "  <thead>\n",
       "    <tr style=\"text-align: right;\">\n",
       "      <th></th>\n",
       "      <th>feature</th>\n",
       "      <th>importance</th>\n",
       "    </tr>\n",
       "  </thead>\n",
       "  <tbody>\n",
       "    <tr>\n",
       "      <th>5</th>\n",
       "      <td>Sex_female</td>\n",
       "      <td>0.457167</td>\n",
       "    </tr>\n",
       "    <tr>\n",
       "      <th>0</th>\n",
       "      <td>Pclass</td>\n",
       "      <td>0.215909</td>\n",
       "    </tr>\n",
       "    <tr>\n",
       "      <th>1</th>\n",
       "      <td>Age</td>\n",
       "      <td>0.144922</td>\n",
       "    </tr>\n",
       "    <tr>\n",
       "      <th>4</th>\n",
       "      <td>Fare</td>\n",
       "      <td>0.119181</td>\n",
       "    </tr>\n",
       "    <tr>\n",
       "      <th>2</th>\n",
       "      <td>SibSp</td>\n",
       "      <td>0.046222</td>\n",
       "    </tr>\n",
       "    <tr>\n",
       "      <th>9</th>\n",
       "      <td>Embarked_S</td>\n",
       "      <td>0.010637</td>\n",
       "    </tr>\n",
       "    <tr>\n",
       "      <th>3</th>\n",
       "      <td>Parch</td>\n",
       "      <td>0.005962</td>\n",
       "    </tr>\n",
       "    <tr>\n",
       "      <th>6</th>\n",
       "      <td>Sex_male</td>\n",
       "      <td>0.000000</td>\n",
       "    </tr>\n",
       "    <tr>\n",
       "      <th>7</th>\n",
       "      <td>Embarked_C</td>\n",
       "      <td>0.000000</td>\n",
       "    </tr>\n",
       "    <tr>\n",
       "      <th>8</th>\n",
       "      <td>Embarked_Q</td>\n",
       "      <td>0.000000</td>\n",
       "    </tr>\n",
       "  </tbody>\n",
       "</table>\n",
       "</div>"
      ],
      "text/plain": [
       "      feature  importance\n",
       "5  Sex_female    0.457167\n",
       "0      Pclass    0.215909\n",
       "1         Age    0.144922\n",
       "4        Fare    0.119181\n",
       "2       SibSp    0.046222\n",
       "9  Embarked_S    0.010637\n",
       "3       Parch    0.005962\n",
       "6    Sex_male    0.000000\n",
       "7  Embarked_C    0.000000\n",
       "8  Embarked_Q    0.000000"
      ]
     },
     "execution_count": 28,
     "metadata": {},
     "output_type": "execute_result"
    }
   ],
   "source": [
    "feature_importance = pd.DataFrame({'feature': X_train.columns,\n",
    "                                  'importance': decision_tree.feature_importances_}).sort_values('importance', ascending=False)\n",
    "feature_importance"
   ]
  },
  {
   "cell_type": "markdown",
   "id": "ece7dd85-060e-4b94-94c4-773d5e98d250",
   "metadata": {},
   "source": [
    "#### Top two splitting features: \n",
    "##### As seen from the above table, the top two features in the decision tree came out to be sex and Pclass which I think is fair enough like a passenger's survival mostly depends on whether the person is male or female and whether he/she is in economy or business class."
   ]
  },
  {
   "cell_type": "markdown",
   "id": "d74bcb6f-9d34-4586-9e92-86644a24e1d9",
   "metadata": {},
   "source": [
    "#### Would gini be appropriate here as well?\n",
    "##### Using the Gini index would also be suitable because it’s another method of measuring the purity of splits in the tree, providing similar performance in classification tasks. Gini is computationally simpler than entropy (as it avoids the logarithmic calculations). While entropy provides more insight into information gain, Gini often yields similar splits, so both can be used effectively for classification tasks."
   ]
  },
  {
   "cell_type": "markdown",
   "id": "fee2ae33-3d76-45c8-b05e-57e1107323d3",
   "metadata": {},
   "source": [
    "## Model Evaluation with Cross Validation\n",
    "****"
   ]
  },
  {
   "cell_type": "code",
   "execution_count": 29,
   "id": "f87ca773-d016-432b-8c1a-212b126edc7e",
   "metadata": {
    "tags": []
   },
   "outputs": [],
   "source": [
    "# Perform 5-fold cross-validation on the training data\n",
    "cv_scores = cross_val_score(decision_tree, X_train, y_train, cv=5, scoring='accuracy')"
   ]
  },
  {
   "cell_type": "markdown",
   "id": "6787e16e-666e-4ff9-b8eb-d06da962e934",
   "metadata": {},
   "source": [
    "### Interpretation:\n",
    "1. **Accuracy as a Metric**: Accuracy can be appropriate if the dataset is relatively balanced between classes (e.g., similar numbers of 'Survived' and 'Not Survived' samples). However, if there is a significant class imbalance, other metrics like F1-score, precision, and recall might give more insight, as they better account for imbalanced data.\n",
    "\n",
    "2. **Mean Accuracy and Variance**: The mean accuracy will show the overall performance across folds, while the standard deviation provides an indication of how much the accuracy varies across different subsets, reflecting the model's consistency. Lower variance generally indicates more stable performance."
   ]
  },
  {
   "cell_type": "code",
   "execution_count": 30,
   "id": "d227b2ef-5030-4aba-aa3a-9db371185c46",
   "metadata": {},
   "outputs": [
    {
     "name": "stdout",
     "output_type": "stream",
     "text": [
      "Mean Accuracy: 0.8104\n",
      "Accuracy Variance (±): 0.0192\n"
     ]
    }
   ],
   "source": [
    "# Report mean accuracy and standard deviation\n",
    "mean_accuracy = np.mean(cv_scores)\n",
    "std_dev = np.std(cv_scores)\n",
    "\n",
    "print(f\"Mean Accuracy: {mean_accuracy:.4f}\")\n",
    "print(f\"Accuracy Variance (±): {std_dev:.4f}\")"
   ]
  },
  {
   "cell_type": "markdown",
   "id": "eb0922b3-b7a2-4d42-a75d-a932a391269b",
   "metadata": {},
   "source": [
    "## Hyperparameter Tuning\n",
    "****"
   ]
  },
  {
   "cell_type": "code",
   "execution_count": 31,
   "id": "c54c24ab-d677-4de0-8319-acf4b70dcf5f",
   "metadata": {
    "tags": []
   },
   "outputs": [
    {
     "name": "stdout",
     "output_type": "stream",
     "text": [
      "Depth | Mean Accuracy (Entropy) | Variance (Entropy) | Top Feature (Entropy)\n",
      "1     | 0.7879              | 0.0293         | ['Sex_male']\n",
      "2     | 0.7865              | 0.0306         | ['Sex_male', 'Pclass']\n",
      "3     | 0.8230              | 0.0116         | ['Sex_male', 'Pclass']\n",
      "4     | 0.8132              | 0.0174         | ['Sex_male', 'Pclass']\n",
      "5     | 0.8090              | 0.0177         | ['Sex_male', 'Pclass']\n",
      "6     | 0.8033              | 0.0152         | ['Sex_male', 'Pclass']\n",
      "7     | 0.7949              | 0.0252         | ['Sex_male', 'Pclass']\n",
      "8     | 0.8005              | 0.0133         | ['Sex_male', 'Pclass']\n",
      "9     | 0.7991              | 0.0098         | ['Sex_male', 'Pclass']\n",
      "10    | 0.7978              | 0.0163         | ['Sex_male', 'Pclass']\n",
      "11    | 0.7977              | 0.0154         | ['Sex_male', 'Pclass']\n",
      "12    | 0.7780              | 0.0226         | ['Sex_male', 'Pclass']\n",
      "13    | 0.7781              | 0.0164         | ['Sex_male', 'Pclass']\n",
      "14    | 0.7669              | 0.0174         | ['Sex_male', 'Pclass']\n",
      "15    | 0.7626              | 0.0164         | ['Sex_male', 'Pclass']\n",
      "16    | 0.7683              | 0.0193         | ['Sex_male', 'Pclass']\n",
      "17    | 0.7711              | 0.0219         | ['Sex_male', 'Pclass']\n",
      "18    | 0.7739              | 0.0162         | ['Sex_male', 'Pclass']\n",
      "19    | 0.7753              | 0.0225         | ['Sex_male', 'Pclass']\n",
      "20    | 0.7795              | 0.0179         | ['Sex_male', 'Pclass']\n",
      "\n",
      "Depth | Mean Accuracy (Gini)    | Variance (Gini)    | Top Feature (Gini)\n",
      "1     | 0.7879              | 0.0293         | ['Sex_male']\n",
      "2     | 0.7865              | 0.0306         | ['Sex_male', 'Pclass']\n",
      "3     | 0.8202              | 0.0087         | ['Sex_male', 'Pclass']\n",
      "4     | 0.8033              | 0.0225         | ['Sex_male', 'Pclass']\n",
      "5     | 0.8048              | 0.0170         | ['Sex_male', 'Pclass']\n",
      "6     | 0.7991              | 0.0187         | ['Sex_male', 'Pclass']\n",
      "7     | 0.8047              | 0.0168         | ['Sex_male', 'Pclass']\n",
      "8     | 0.8019              | 0.0243         | ['Sex_male', 'Pclass']\n",
      "9     | 0.7822              | 0.0291         | ['Sex_male', 'Pclass']\n",
      "10    | 0.7724              | 0.0203         | ['Sex_male', 'Pclass']\n",
      "11    | 0.7780              | 0.0182         | ['Sex_male', 'Pclass']\n",
      "12    | 0.7738              | 0.0231         | ['Sex_male', 'Pclass']\n",
      "13    | 0.7612              | 0.0133         | ['Sex_male', 'Pclass']\n",
      "14    | 0.7654              | 0.0154         | ['Sex_male', 'Pclass']\n",
      "15    | 0.7654              | 0.0102         | ['Sex_male', 'Pclass']\n",
      "16    | 0.7570              | 0.0163         | ['Sex_male', 'Pclass']\n",
      "17    | 0.7556              | 0.0103         | ['Sex_male', 'Pclass']\n",
      "18    | 0.7556              | 0.0093         | ['Sex_male', 'Pclass']\n",
      "19    | 0.7584              | 0.0052         | ['Sex_male', 'Pclass']\n",
      "20    | 0.7584              | 0.0052         | ['Sex_male', 'Pclass']\n",
      "\n",
      "Best Model: Criterion = entropy, Depth = 3, Accuracy = 0.8230\n"
     ]
    },
    {
     "data": {
      "image/png": "[encoded data removed]",
      "text/plain": [
       "<Figure size 2000x1000 with 1 Axes>"
      ]
     },
     "metadata": {},
     "output_type": "display_data"
    }
   ],
   "source": [
    "from sklearn import tree\n",
    "\n",
    "# Store results\n",
    "entropy_results = []\n",
    "gini_results = []\n",
    "entropy_top_splitting_features = {}\n",
    "gini_top_splitting_features = {}\n",
    "\n",
    "# Initialize variables to track the best model\n",
    "best_model = None\n",
    "best_criterion = None\n",
    "best_depth = None\n",
    "best_accuracy = 0\n",
    "\n",
    "# Loop through max_depth from 1 to 20\n",
    "for depth in range(1, 21):\n",
    "    # Using 'entropy' as criterion\n",
    "    decision_tree_entropy = DecisionTreeClassifier(criterion='entropy', max_depth=depth, random_state=0)\n",
    "    entropy_scores = cross_val_score(decision_tree_entropy, X_train, y_train, cv=5, scoring='accuracy')\n",
    "    mean_entropy_score = np.mean(entropy_scores)\n",
    "    entropy_results.append((depth, mean_entropy_score, np.std(entropy_scores)))\n",
    "    \n",
    "    # Update best model if current entropy model is better\n",
    "    if mean_entropy_score > best_accuracy:\n",
    "        best_model = decision_tree_entropy\n",
    "        best_criterion = 'entropy'\n",
    "        best_depth = depth\n",
    "        best_accuracy = mean_entropy_score\n",
    "\n",
    "    # Fit to get the top 2 features for each depth\n",
    "    decision_tree_entropy.fit(X_train, y_train)\n",
    "    top_features = [X_train.columns[i] for i in decision_tree_entropy.tree_.feature if i != -2][:2]\n",
    "    entropy_top_splitting_features[depth] = top_features\n",
    "    \n",
    "    # Using 'gini' as criterion\n",
    "    decision_tree_gini = DecisionTreeClassifier(criterion='gini', max_depth=depth, random_state=0)\n",
    "    gini_scores = cross_val_score(decision_tree_gini, X_train, y_train, cv=5, scoring='accuracy')\n",
    "    mean_gini_score = np.mean(gini_scores)\n",
    "    gini_results.append((depth, mean_gini_score, np.std(gini_scores)))\n",
    "    \n",
    "    # Update best model if current gini model is better\n",
    "    if mean_gini_score > best_accuracy:\n",
    "        best_model = decision_tree_gini\n",
    "        best_criterion = 'gini'\n",
    "        best_depth = depth\n",
    "        best_accuracy = mean_gini_score\n",
    "\n",
    "    # Fit to get the top 2 features for each depth\n",
    "    decision_tree_gini.fit(X_train, y_train)\n",
    "    top_features = [X_train.columns[i] for i in decision_tree_gini.tree_.feature if i != -2][:2]\n",
    "    gini_top_splitting_features[depth] = top_features\n",
    "\n",
    "# Display the results in a table-like format\n",
    "print(\"Depth | Mean Accuracy (Entropy) | Variance (Entropy) | Top Feature (Entropy)\")\n",
    "for depth, mean_accuracy, std_dev in entropy_results:\n",
    "    print(f\"{depth:<5} | {mean_accuracy:.4f}              | {std_dev:.4f}         | {entropy_top_splitting_features[depth]}\")\n",
    "\n",
    "print(\"\\nDepth | Mean Accuracy (Gini)    | Variance (Gini)    | Top Feature (Gini)\")\n",
    "for depth, mean_accuracy, std_dev in gini_results:\n",
    "    print(f\"{depth:<5} | {mean_accuracy:.4f}              | {std_dev:.4f}         | {gini_top_splitting_features[depth]}\")\n",
    "\n",
    "# Print the best model details\n",
    "print(f\"\\nBest Model: Criterion = {best_criterion}, Depth = {best_depth}, Accuracy = {best_accuracy:.4f}\")\n",
    "\n",
    "# Train the best model on the full training data to plot the decision tree\n",
    "best_model.fit(X_train, y_train)\n",
    "\n",
    "# Plotting the decision tree\n",
    "plt.figure(figsize=(20,10))\n",
    "tree.plot_tree(best_model, feature_names=X_train.columns, class_names=['Not Survived', 'Survived'], filled=True, max_depth=3)\n",
    "plt.title(f\"Decision Tree (Criterion = {best_criterion}, Depth = {best_depth})\")\n",
    "plt.show()\n"
   ]
  },
  {
   "cell_type": "markdown",
   "id": "e0d4887f-c550-4c98-8338-c0d5e6712e81",
   "metadata": {},
   "source": [
    "### Observations:\n",
    "#### For both gini and entropy, the accuracy and came out to be almost same which represents that with whatever we try, we would get almost same predictions. Even the top two splitting features also remained same with both the metrics, that are, sex_male and Pclass."
   ]
  },
  {
   "cell_type": "markdown",
   "id": "e1a41c5a-99f9-4271-b098-2331cbf639ea",
   "metadata": {},
   "source": [
    "## Entropy and Gini code\n",
    "***"
   ]
  },
  {
   "cell_type": "code",
   "execution_count": 32,
   "id": "983929d2-e571-4be0-a6fc-a15f990098a9",
   "metadata": {
    "tags": []
   },
   "outputs": [
    {
     "name": "stdout",
     "output_type": "stream",
     "text": [
      "Test Case 1: [1, 2, 2, 3, 3, 3] -> Entropy: 1.4591\n",
      "Test Case 2: [1, 1, 1, 1, 1, 1, 1, 1, 1, 1] -> Entropy: -0.0000\n",
      "Test Case 3: [2, 3] -> Entropy: 1.0000\n"
     ]
    }
   ],
   "source": [
    "def calculate_entropy(data):\n",
    "    # Count the occurrences of each class in the dataset\n",
    "    class_labels, counts = np.unique(data, return_counts=True)\n",
    "    \n",
    "    # Calculate the probability of each class\n",
    "    probabilities = counts / counts.sum()\n",
    "    \n",
    "    # Calculate entropy\n",
    "    entropy = -np.sum(probabilities * np.log2(probabilities))\n",
    "    \n",
    "    return entropy\n",
    "\n",
    "# Test cases\n",
    "test_cases = [\n",
    "    [1, 2, 2, 3, 3, 3],\n",
    "    [1, 1, 1, 1, 1, 1, 1, 1, 1, 1],\n",
    "    [2, 3]\n",
    "]\n",
    "\n",
    "# Calculate and print entropy for each test case\n",
    "for i, test_case in enumerate(test_cases):\n",
    "    entropy_value = calculate_entropy(test_case)\n",
    "    print(f\"Test Case {i + 1}: {test_case} -> Entropy: {entropy_value:.4f}\")"
   ]
  },
  {
   "cell_type": "code",
   "execution_count": 33,
   "id": "fbdc8615-359b-49b4-ac2b-e1084aa2c22f",
   "metadata": {
    "tags": []
   },
   "outputs": [
    {
     "name": "stdout",
     "output_type": "stream",
     "text": [
      "Test Case 1: [1, 2, 2, 3, 3, 3] -> Gini Index: 0.6111\n",
      "Test Case 2: [1, 1, 1, 1, 1, 1, 1, 1, 1, 1] -> Gini Index: 0.0000\n",
      "Test Case 3: [2, 3] -> Gini Index: 0.5000\n"
     ]
    }
   ],
   "source": [
    "def calculate_gini(data):\n",
    "    \"\"\"\n",
    "    Calculate the Gini index of a dataset.\n",
    "\n",
    "    Parameters:\n",
    "    data (list): A list of class labels (integers).\n",
    "\n",
    "    Returns:\n",
    "    float: The Gini index of the dataset.\n",
    "    \"\"\"\n",
    "    # Count the occurrences of each class in the dataset\n",
    "    class_labels, counts = np.unique(data, return_counts=True)\n",
    "    \n",
    "    # Calculate the probability of each class\n",
    "    probabilities = counts / counts.sum()\n",
    "    \n",
    "    # Calculate Gini index\n",
    "    gini_index = 1 - np.sum(probabilities ** 2)\n",
    "    \n",
    "    return gini_index\n",
    "\n",
    "# Test cases\n",
    "test_cases = [\n",
    "    [1, 2, 2, 3, 3, 3],\n",
    "    [1, 1, 1, 1, 1, 1, 1, 1, 1, 1],\n",
    "    [2, 3]\n",
    "]\n",
    "\n",
    "# Calculate and print Gini index for each test case\n",
    "for i, test_case in enumerate(test_cases):\n",
    "    gini_value = calculate_gini(test_case)\n",
    "    print(f\"Test Case {i + 1}: {test_case} -> Gini Index: {gini_value:.4f}\")"
   ]
  },
  {
   "cell_type": "code",
   "execution_count": 34,
   "id": "e6c16ff1-aff6-4055-bf9a-106972eef7ee",
   "metadata": {
    "tags": []
   },
   "outputs": [
    {
     "name": "stdout",
     "output_type": "stream",
     "text": [
      "[0 1 0 0 0 0 1 0 1 0 0 0 1 0 1 1 0 0 0 1 0 0 1 0 1 0 1 0 0 0 0 0 0 0 0 0 0\n",
      " 0 0 0 0 0 0 1 1 0 0 0 1 0 0 0 1 1 0 0 0 0 0 1 0 0 0 1 0 1 1 0 0 1 1 0 0 0\n",
      " 1 0 0 1 0 1 1 0 0 0 0 0 1 0 1 1 0 0 1 0 0 0 1 0 0 0 1 0 0 0 1 0 0 0 0 0 0\n",
      " 1 1 1 1 0 0 0 0 1 1 0 1 0 0 0 0 1 0 0 0 0 0 0 0 0 0 0 0 0 0 1 0 0 0 0 0 0\n",
      " 0 0 1 0 0 0 0 0 1 0 0 0 1 0 1 0 0 0 0 0 1 0 0 0 0 0 0 1 1 0 1 1 0 0 1 0 1\n",
      " 0 1 0 0 0 0 0 0 0 0 0 1 0 0 0 1 1 0 1 0 0 1 0 1 0 0 0 0 1 0 0 1 0 1 0 1 0\n",
      " 1 0 1 1 0 1 0 0 0 1 0 0 0 0 0 0 1 1 1 1 0 0 0 0 1 0 1 1 0 0 0 0 0 0 0 0 1\n",
      " 0 0 0 1 0 0 0 0 0 0 0 0 0 1 1 0 1 0 0 0 0 0 1 1 1 0 0 0 0 0 0 0 1 0 0 0 0\n",
      " 0 0 0 0 0 0 0 0 1 1 0 1 0 0 0 0 0 1 1 1 0 0 0 0 0 0 0 0 1 0 1 0 0 0 1 0 0\n",
      " 1 0 0 0 0 0 0 0 0 0 1 0 1 0 1 0 1 1 0 0 0 0 0 1 0 0 0 0 1 1 0 1 0 0 0 1 0\n",
      " 0 1 0 0 1 1 0 0 0 0 0 0 0 0 0 1 0 0 0 0 0 1 0 0 0 1 0 1 0 0 1 0 1 0 0 0 0\n",
      " 0 1 0 1 1 0 0 1 0 0 0]\n"
     ]
    }
   ],
   "source": [
    "# Make predictions\n",
    "predictions = decision_tree.predict(test_data_features)\n",
    "\n",
    "# Display the predictions\n",
    "print(predictions)"
   ]
  },
  {
   "cell_type": "code",
   "execution_count": 35,
   "id": "e2fba26f-967e-45da-8e44-1bf7bbc876dd",
   "metadata": {
    "tags": []
   },
   "outputs": [
    {
     "name": "stdout",
     "output_type": "stream",
     "text": [
      "   PassengerId  Pclass                                          Name     Sex  \\\n",
      "0          892       3                              Kelly, Mr. James    male   \n",
      "1          893       3              Wilkes, Mrs. James (Ellen Needs)  female   \n",
      "2          894       2                     Myles, Mr. Thomas Francis    male   \n",
      "3          895       3                              Wirz, Mr. Albert    male   \n",
      "4          896       3  Hirvonen, Mrs. Alexander (Helga E Lindqvist)  female   \n",
      "\n",
      "    Age  SibSp  Parch   Ticket     Fare Embarked  Survived  \n",
      "0  34.5      0      0   330911   7.8292        Q         0  \n",
      "1  47.0      1      0   363272   7.0000        S         1  \n",
      "2  62.0      0      0   240276   9.6875        Q         0  \n",
      "3  27.0      0      0   315154   8.6625        S         0  \n",
      "4  22.0      1      1  3101298  12.2875        S         0  \n"
     ]
    }
   ],
   "source": [
    "# 'predictions' is our array of predicted values\n",
    "predictions_df = pd.DataFrame(predictions, columns=['Survived'])\n",
    "\n",
    "# Add the predictions as a new column to the test data\n",
    "test_set_with_predictions = pd.concat([data_test.reset_index(drop=True), predictions_df], axis=1)\n",
    "\n",
    "# Display the first few rows of the updated test set\n",
    "print(test_set_with_predictions.head())"
   ]
  },
  {
   "cell_type": "code",
   "execution_count": 36,
   "id": "14ed2eb8-e805-4e21-9b05-0df6397b18ba",
   "metadata": {
    "tags": []
   },
   "outputs": [],
   "source": [
    "test_set_with_predictions = pd.DataFrame({\n",
    "    'PassengerId': data_test['PassengerId'],\n",
    "    'Survived': predictions                     \n",
    "})"
   ]
  },
  {
   "cell_type": "code",
   "execution_count": 37,
   "id": "67ace47d-b286-49b1-809a-f3678120f8ec",
   "metadata": {
    "tags": []
   },
   "outputs": [],
   "source": [
    "# Save the DataFrame to a CSV file\n",
    "test_set_with_predictions.to_csv('test_predictions.csv', index=False)"
   ]
  },
  {
   "cell_type": "code",
   "execution_count": 38,
   "id": "6e613767-dc09-4554-9f31-e0b0fc24d166",
   "metadata": {
    "tags": []
   },
   "outputs": [],
   "source": [
    "# Specifying the path to our Downloads folder\n",
    "downloads_path = r'C:\\Users\\123hu\\Downloads\\test_predictions.csv'\n",
    "\n",
    "# Save the DataFrame to the specified path\n",
    "test_set_with_predictions.to_csv(downloads_path, index=False)"
   ]
  },
  {
   "cell_type": "code",
   "execution_count": null,
   "id": "929d9285-a0ac-426b-8889-a2bab1f2a841",
   "metadata": {},
   "outputs": [],
   "source": []
  }
 ],
 "metadata": {
  "kernelspec": {
   "display_name": "Python 3 (ipykernel)",
   "language": "python",
   "name": "python3"
  },
  "language_info": {
   "codemirror_mode": {
    "name": "ipython",
    "version": 3
   },
   "file_extension": ".py",
   "mimetype": "text/x-python",
   "name": "python",
   "nbconvert_exporter": "python",
   "pygments_lexer": "ipython3",
   "version": "3.7.1"
  }
 },
 "nbformat": 4,
 "nbformat_minor": 5
}
